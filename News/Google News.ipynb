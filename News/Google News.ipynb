{
 "cells": [
  {
   "cell_type": "code",
   "execution_count": 1,
   "source": [
    "# Import library \r\n",
    "from GoogleNews import GoogleNews"
   ],
   "outputs": [],
   "metadata": {}
  },
  {
   "cell_type": "code",
   "execution_count": 2,
   "source": [
    "news = GoogleNews()\r\n",
    "news = GoogleNews (period = \"7d\")\r\n",
    "news.search (\"Malaysia\")"
   ],
   "outputs": [],
   "metadata": {}
  },
  {
   "cell_type": "code",
   "execution_count": 3,
   "source": [
    "result = news.result()"
   ],
   "outputs": [],
   "metadata": {}
  },
  {
   "cell_type": "code",
   "execution_count": 4,
   "source": [
    "for x in result:\r\n",
    "    print (\"-\"*50)\r\n",
    "    print (\"Title --\", x[\"title\"])\r\n",
    "    print (\"Date/Time --\", x[\"date\"])\r\n",
    "    print (\"Description --\", x[\"desc\"])\r\n",
    "    print (\"Link --\", x[\"link\"])"
   ],
   "outputs": [
    {
     "output_type": "stream",
     "name": "stdout",
     "text": [
      "--------------------------------------------------\n",
      "Title -- Prioritise SMEs in Budget 2022, govt urged | Free Malaysia ...\n",
      "Date/Time -- 30 mins ago\n",
      "Description -- Malaysia · Borneo+ ... FMT News Free Malaysia Today (FMT). 28.9 C. Kuala Lumpur. The FMT App · Advertise With Us · We Are Hiring ... Malaysia · Borneo+.\n",
      "Link -- https://www.freemalaysiatoday.com/category/nation/2021/10/05/prioritise-smes-in-budget-2022-govt-urged/\n",
      "--------------------------------------------------\n",
      "Title -- Sandakan intensifies Covid-19 mobile vaccination\n",
      "Date/Time -- 34 mins ago\n",
      "Description -- Dewan Rakyat to wind up debate of 12th Malaysia Plan today · Sarawak police chief: 28 reports lodged against preacher who allegedly insulted non-Muslims · Johor...\n",
      "Link -- https://www.malaymail.com/news/malaysia/2021/10/05/sandakan-intensifies-covid-19-mobile-vaccination/2011033\n",
      "--------------------------------------------------\n",
      "Title -- Govt relaxes rules for existing MM2H holders | Free Malaysia ...\n",
      "Date/Time -- 44 mins ago\n",
      "Description -- PETALING JAYA: The government has eased up on the new rules for the Malaysia My Second Home (MM2H) programme, with those already enrolled needing to only...\n",
      "Link -- https://www.freemalaysiatoday.com/category/nation/2021/10/05/govt-relaxes-rules-for-existing-mm2h-holders/\n",
      "--------------------------------------------------\n",
      "Title -- Malaysia to announce commitment towards carbon-neutral ...\n",
      "Date/Time -- 45 mins ago\n",
      "Description -- KUALA LUMPUR: Malaysia is set to announce its commitment in becoming a carbon neutral nation as early as 2050, says Datuk Seri Tuan Ibrahim Tuan Man.\n",
      "Link -- https://www.thestar.com.my/news/nation/2021/10/05/malaysia-to-announce-commitment-towards-carbon-neutral-target-by-2050-at-un-climate-change-conference-says-tuan-ibrahim\n",
      "--------------------------------------------------\n",
      "Title -- Penang opens up mosques to fully-vaccinated foreigners\n",
      "Date/Time -- 56 mins ago\n",
      "Description -- Dewan Rakyat to wind up debate of 12th Malaysia Plan today · Sarawak police chief: 28 reports lodged against preacher who allegedly insulted non-Muslims · Johor...\n",
      "Link -- https://www.malaymail.com/news/malaysia/2021/10/05/penang-opens-up-mosques-to-fully-vaccinated-foreigners/2011029\n",
      "--------------------------------------------------\n",
      "Title -- Govt to study legalising medical marijuana | Free Malaysia ...\n",
      "Date/Time -- 57 mins ago\n",
      "Description -- Syed Saddiq had urged Putrajaya to look into approving hemp and medical marijuana farming in Malaysia, pointing to its economic and health benefits.\n",
      "Link -- https://www.freemalaysiatoday.com/category/nation/2021/10/05/govt-to-study-legalising-medical-marijuana/\n",
      "--------------------------------------------------\n",
      "Title -- What Happened To China's BRI Projects in Malaysia?\n",
      "Date/Time -- 1 hour ago\n",
      "Description -- What Happened To China's BRI Projects in Malaysia? A photo shows a portion of the now-canceled Melaka Gateway project in Melaka, Malaysia, in March 2019. Credit...\n",
      "Link -- https://thediplomat.com/2021/10/what-happened-to-chinas-bri-projects-in-malaysia/\n",
      "--------------------------------------------------\n",
      "Title -- Malaysia Construction Market Report 2021 - Key Trends and ...\n",
      "Date/Time -- 1 hour ago\n",
      "Description -- The Malaysian construction industry has been severely affected due to the disruption caused by the Coronavirus (COVID-19) pandemic.\n",
      "Link -- https://finance.yahoo.com/news/malaysia-construction-market-report-2021-114500115.html\n",
      "--------------------------------------------------\n",
      "Title -- Thomas Cup: Malaysia to focus fully on Japan following ...\n",
      "Date/Time -- 1 hour ago\n",
      "Description -- Badminton Association of Malaysia (BAM) president Tan Sri Mohamad Norza Zakaria, however, said they will not revise the team's quarter-final target despite...\n",
      "Link -- https://www.malaymail.com/news/sports/2021/10/05/thomas-cup-malaysia-to-focus-fully-on-japan-following-englands-withdrawal-s/2011020\n",
      "--------------------------------------------------\n",
      "Title -- EC to meet over Melaka state election | Free Malaysia Today\n",
      "Date/Time -- 1 hour ago\n",
      "Description -- Malaysia · Borneo+ ... FMT News Free Malaysia Today (FMT). 28.9 C. Kuala Lumpur. The FMT App · Advertise With Us · We Are Hiring ... Malaysia · Borneo+.\n",
      "Link -- https://www.freemalaysiatoday.com/category/nation/2021/10/05/ec-to-meet-over-melaka-state-election/\n"
     ]
    }
   ],
   "metadata": {}
  }
 ],
 "metadata": {
  "orig_nbformat": 4,
  "language_info": {
   "name": "python",
   "version": "3.8.11",
   "mimetype": "text/x-python",
   "codemirror_mode": {
    "name": "ipython",
    "version": 3
   },
   "pygments_lexer": "ipython3",
   "nbconvert_exporter": "python",
   "file_extension": ".py"
  },
  "kernelspec": {
   "name": "python3",
   "display_name": "Python 3.8.11 64-bit ('base': conda)"
  },
  "interpreter": {
   "hash": "26fd1259fd489d5a6421297310a87215120db0e832edde80825b8ced8638d752"
  }
 },
 "nbformat": 4,
 "nbformat_minor": 2
}