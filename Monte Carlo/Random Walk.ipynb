{
 "cells": [
  {
   "cell_type": "code",
   "execution_count": 1,
   "metadata": {},
   "outputs": [],
   "source": [
    "import random"
   ]
  },
  {
   "cell_type": "code",
   "execution_count": 2,
   "metadata": {},
   "outputs": [],
   "source": [
    "def random_walk(n):\n",
    "    '''Return coordinates after 'n' blocks random walk.'''\n",
    "    x = 0 \n",
    "    y = 0\n",
    "    for i in range (n):\n",
    "        step = random.choice ([\"N\",\"S\", \"E\", \"W\"])\n",
    "        if step == \"N\":\n",
    "            y = y + 1\n",
    "        elif step == \"S\":\n",
    "            y = y - 1\n",
    "        elif step == \"E\":\n",
    "            x = x + 1\n",
    "        else:\n",
    "            x = x - 1\n",
    "    return (x, y)"
   ]
  },
  {
   "cell_type": "code",
   "execution_count": 3,
   "metadata": {},
   "outputs": [
    {
     "name": "stdout",
     "output_type": "stream",
     "text": [
      "(0, 0) Distance from home =  0\n",
      "(-1, -1) Distance from home =  2\n",
      "(0, -2) Distance from home =  2\n",
      "(1, 3) Distance from home =  4\n",
      "(-3, 1) Distance from home =  4\n",
      "(-3, 3) Distance from home =  6\n",
      "(1, -1) Distance from home =  2\n",
      "(1, 1) Distance from home =  2\n",
      "(3, -1) Distance from home =  4\n",
      "(-1, 1) Distance from home =  2\n",
      "(3, -3) Distance from home =  6\n",
      "(-2, 0) Distance from home =  2\n",
      "(0, 0) Distance from home =  0\n",
      "(3, 3) Distance from home =  6\n",
      "(-3, -3) Distance from home =  6\n",
      "(2, 4) Distance from home =  6\n",
      "(-3, 3) Distance from home =  6\n",
      "(1, 1) Distance from home =  2\n",
      "(-2, 4) Distance from home =  6\n",
      "(0, 2) Distance from home =  2\n",
      "(2, 0) Distance from home =  2\n",
      "(1, -1) Distance from home =  2\n",
      "(0, 0) Distance from home =  0\n",
      "(3, 1) Distance from home =  4\n",
      "(1, 1) Distance from home =  2\n"
     ]
    }
   ],
   "source": [
    "for i in range (25):\n",
    "    walk = random_walk(10)\n",
    "    print (walk, \"Distance from home = \",\n",
    "           abs(walk[0]) + abs(walk[1]))"
   ]
  },
  {
   "cell_type": "markdown",
   "metadata": {},
   "source": [
    "# Monte Carlo Stimulation"
   ]
  },
  {
   "cell_type": "markdown",
   "metadata": {},
   "source": [
    "##### Assume after 30 blocks of random walk, if the distance is within 4 blocks from home, no need to take transport.\n",
    "##### Find the longest walk which will, on average, leave you less than 5 blocks from home.  "
   ]
  },
  {
   "cell_type": "code",
   "execution_count": 7,
   "metadata": {},
   "outputs": [],
   "source": [
    "# Stimulate n times \n",
    "number_of_walks = 1000000"
   ]
  },
  {
   "cell_type": "code",
   "execution_count": 8,
   "metadata": {},
   "outputs": [
    {
     "name": "stdout",
     "output_type": "stream",
     "text": [
      "Walk Size =  1  / % of no transport 100.0\n",
      "Walk Size =  2  / % of no transport 100.0\n",
      "Walk Size =  3  / % of no transport 100.0\n",
      "Walk Size =  4  / % of no transport 100.0\n",
      "Walk Size =  5  / % of no transport 87.86\n",
      "Walk Size =  6  / % of no transport 93.83\n",
      "Walk Size =  7  / % of no transport 76.53\n",
      "Walk Size =  8  / % of no transport 86.44\n",
      "Walk Size =  9  / % of no transport 67.36\n",
      "Walk Size =  10  / % of no transport 79.31\n",
      "Walk Size =  11  / % of no transport 59.83\n",
      "Walk Size =  12  / % of no transport 72.92\n",
      "Walk Size =  13  / % of no transport 53.72\n",
      "Walk Size =  14  / % of no transport 67.3\n",
      "Walk Size =  15  / % of no transport 48.77\n",
      "Walk Size =  16  / % of no transport 62.41\n",
      "Walk Size =  17  / % of no transport 44.69\n",
      "Walk Size =  18  / % of no transport 58.09\n",
      "Walk Size =  19  / % of no transport 41.06\n",
      "Walk Size =  20  / % of no transport 54.31\n",
      "Walk Size =  21  / % of no transport 38.01\n",
      "Walk Size =  22  / % of no transport 51.05\n",
      "Walk Size =  23  / % of no transport 35.27\n",
      "Walk Size =  24  / % of no transport 47.94\n",
      "Walk Size =  25  / % of no transport 33.15\n",
      "Walk Size =  26  / % of no transport 45.32\n",
      "Walk Size =  27  / % of no transport 31.15\n",
      "Walk Size =  28  / % of no transport 42.98\n",
      "Walk Size =  29  / % of no transport 29.32\n",
      "Walk Size =  30  / % of no transport 40.75\n"
     ]
    }
   ],
   "source": [
    "for walk_length in range (1, 31):\n",
    "    no_transport = 0 #Number of walks 4 or fewer blocks from home \n",
    "    for i in range (number_of_walks):\n",
    "        (x, y) = random_walk (walk_length)\n",
    "        distance = abs(x) + abs (y)\n",
    "        if distance <= 4:\n",
    "            no_transport += 1\n",
    "    no_transport_percentage = round( float (no_transport) / number_of_walks * 100, 2)\n",
    "    print (\"Walk Size = \", walk_length,\n",
    "           \" / % of no transport\", no_transport_percentage)    "
   ]
  }
 ],
 "metadata": {
  "interpreter": {
   "hash": "26fd1259fd489d5a6421297310a87215120db0e832edde80825b8ced8638d752"
  },
  "kernelspec": {
   "display_name": "Python 3.8.11 ('base')",
   "language": "python",
   "name": "python3"
  },
  "language_info": {
   "codemirror_mode": {
    "name": "ipython",
    "version": 3
   },
   "file_extension": ".py",
   "mimetype": "text/x-python",
   "name": "python",
   "nbconvert_exporter": "python",
   "pygments_lexer": "ipython3",
   "version": "3.8.11"
  },
  "orig_nbformat": 4
 },
 "nbformat": 4,
 "nbformat_minor": 2
}
