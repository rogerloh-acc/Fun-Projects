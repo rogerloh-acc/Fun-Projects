{
 "cells": [
  {
   "cell_type": "code",
   "execution_count": 1,
   "source": [
    "# Import libraries\r\n",
    "import pandas as pd \r\n",
    "import matplotlib.pyplot as plt \r\n",
    "import seaborn as sns \r\n",
    "% matplotlib inline"
   ],
   "outputs": [
    {
     "output_type": "stream",
     "name": "stderr",
     "text": [
      "UsageError: Line magic function `%` not found.\n"
     ]
    }
   ],
   "metadata": {}
  },
  {
   "cell_type": "markdown",
   "source": [
    "# Data Loading"
   ],
   "metadata": {}
  },
  {
   "cell_type": "code",
   "execution_count": 2,
   "source": [
    "# Load the file\r\n",
    "df = pd.read_csv (\"https://raw.githubusercontent.com/rogerloh-acc/Fun-Projects/main/Demo/Brazil%20Environment/environment_brazil.csv\")\r\n",
    "df.head()"
   ],
   "outputs": [
    {
     "output_type": "execute_result",
     "data": {
      "text/html": [
       "<div>\n",
       "<style scoped>\n",
       "    .dataframe tbody tr th:only-of-type {\n",
       "        vertical-align: middle;\n",
       "    }\n",
       "\n",
       "    .dataframe tbody tr th {\n",
       "        vertical-align: top;\n",
       "    }\n",
       "\n",
       "    .dataframe thead th {\n",
       "        text-align: right;\n",
       "    }\n",
       "</style>\n",
       "<table border=\"1\" class=\"dataframe\">\n",
       "  <thead>\n",
       "    <tr style=\"text-align: right;\">\n",
       "      <th></th>\n",
       "      <th>Country Name</th>\n",
       "      <th>Country ISO3</th>\n",
       "      <th>Year</th>\n",
       "      <th>Indicator Name</th>\n",
       "      <th>Indicator Code</th>\n",
       "      <th>Value</th>\n",
       "    </tr>\n",
       "  </thead>\n",
       "  <tbody>\n",
       "    <tr>\n",
       "      <th>0</th>\n",
       "      <td>#country+name</td>\n",
       "      <td>#country+code</td>\n",
       "      <td>#date+year</td>\n",
       "      <td>#indicator+name</td>\n",
       "      <td>#indicator+code</td>\n",
       "      <td>#indicator+value+num</td>\n",
       "    </tr>\n",
       "    <tr>\n",
       "      <th>1</th>\n",
       "      <td>Brazil</td>\n",
       "      <td>BRA</td>\n",
       "      <td>2018</td>\n",
       "      <td>Agricultural land (% of land area)</td>\n",
       "      <td>AG.LND.AGRI.ZS</td>\n",
       "      <td>28.3410903622098</td>\n",
       "    </tr>\n",
       "    <tr>\n",
       "      <th>2</th>\n",
       "      <td>Brazil</td>\n",
       "      <td>BRA</td>\n",
       "      <td>2017</td>\n",
       "      <td>Agricultural land (% of land area)</td>\n",
       "      <td>AG.LND.AGRI.ZS</td>\n",
       "      <td>28.3410663137971</td>\n",
       "    </tr>\n",
       "    <tr>\n",
       "      <th>3</th>\n",
       "      <td>Brazil</td>\n",
       "      <td>BRA</td>\n",
       "      <td>2016</td>\n",
       "      <td>Agricultural land (% of land area)</td>\n",
       "      <td>AG.LND.AGRI.ZS</td>\n",
       "      <td>28.2549706035075</td>\n",
       "    </tr>\n",
       "    <tr>\n",
       "      <th>4</th>\n",
       "      <td>Brazil</td>\n",
       "      <td>BRA</td>\n",
       "      <td>2015</td>\n",
       "      <td>Agricultural land (% of land area)</td>\n",
       "      <td>AG.LND.AGRI.ZS</td>\n",
       "      <td>28.1687313206048</td>\n",
       "    </tr>\n",
       "  </tbody>\n",
       "</table>\n",
       "</div>"
      ],
      "text/plain": [
       "    Country Name   Country ISO3        Year  \\\n",
       "0  #country+name  #country+code  #date+year   \n",
       "1         Brazil            BRA        2018   \n",
       "2         Brazil            BRA        2017   \n",
       "3         Brazil            BRA        2016   \n",
       "4         Brazil            BRA        2015   \n",
       "\n",
       "                       Indicator Name   Indicator Code                 Value  \n",
       "0                     #indicator+name  #indicator+code  #indicator+value+num  \n",
       "1  Agricultural land (% of land area)   AG.LND.AGRI.ZS      28.3410903622098  \n",
       "2  Agricultural land (% of land area)   AG.LND.AGRI.ZS      28.3410663137971  \n",
       "3  Agricultural land (% of land area)   AG.LND.AGRI.ZS      28.2549706035075  \n",
       "4  Agricultural land (% of land area)   AG.LND.AGRI.ZS      28.1687313206048  "
      ]
     },
     "metadata": {},
     "execution_count": 2
    }
   ],
   "metadata": {}
  },
  {
   "cell_type": "markdown",
   "source": [
    "# Data Cleaning"
   ],
   "metadata": {}
  },
  {
   "cell_type": "code",
   "execution_count": 3,
   "source": [
    "# Drop the First Row\r\n",
    "df.drop (index = 0, inplace = True)\r\n",
    "df.head()"
   ],
   "outputs": [
    {
     "output_type": "execute_result",
     "data": {
      "text/html": [
       "<div>\n",
       "<style scoped>\n",
       "    .dataframe tbody tr th:only-of-type {\n",
       "        vertical-align: middle;\n",
       "    }\n",
       "\n",
       "    .dataframe tbody tr th {\n",
       "        vertical-align: top;\n",
       "    }\n",
       "\n",
       "    .dataframe thead th {\n",
       "        text-align: right;\n",
       "    }\n",
       "</style>\n",
       "<table border=\"1\" class=\"dataframe\">\n",
       "  <thead>\n",
       "    <tr style=\"text-align: right;\">\n",
       "      <th></th>\n",
       "      <th>Country Name</th>\n",
       "      <th>Country ISO3</th>\n",
       "      <th>Year</th>\n",
       "      <th>Indicator Name</th>\n",
       "      <th>Indicator Code</th>\n",
       "      <th>Value</th>\n",
       "    </tr>\n",
       "  </thead>\n",
       "  <tbody>\n",
       "    <tr>\n",
       "      <th>1</th>\n",
       "      <td>Brazil</td>\n",
       "      <td>BRA</td>\n",
       "      <td>2018</td>\n",
       "      <td>Agricultural land (% of land area)</td>\n",
       "      <td>AG.LND.AGRI.ZS</td>\n",
       "      <td>28.3410903622098</td>\n",
       "    </tr>\n",
       "    <tr>\n",
       "      <th>2</th>\n",
       "      <td>Brazil</td>\n",
       "      <td>BRA</td>\n",
       "      <td>2017</td>\n",
       "      <td>Agricultural land (% of land area)</td>\n",
       "      <td>AG.LND.AGRI.ZS</td>\n",
       "      <td>28.3410663137971</td>\n",
       "    </tr>\n",
       "    <tr>\n",
       "      <th>3</th>\n",
       "      <td>Brazil</td>\n",
       "      <td>BRA</td>\n",
       "      <td>2016</td>\n",
       "      <td>Agricultural land (% of land area)</td>\n",
       "      <td>AG.LND.AGRI.ZS</td>\n",
       "      <td>28.2549706035075</td>\n",
       "    </tr>\n",
       "    <tr>\n",
       "      <th>4</th>\n",
       "      <td>Brazil</td>\n",
       "      <td>BRA</td>\n",
       "      <td>2015</td>\n",
       "      <td>Agricultural land (% of land area)</td>\n",
       "      <td>AG.LND.AGRI.ZS</td>\n",
       "      <td>28.1687313206048</td>\n",
       "    </tr>\n",
       "    <tr>\n",
       "      <th>5</th>\n",
       "      <td>Brazil</td>\n",
       "      <td>BRA</td>\n",
       "      <td>2014</td>\n",
       "      <td>Agricultural land (% of land area)</td>\n",
       "      <td>AG.LND.AGRI.ZS</td>\n",
       "      <td>28.0824920377022</td>\n",
       "    </tr>\n",
       "  </tbody>\n",
       "</table>\n",
       "</div>"
      ],
      "text/plain": [
       "  Country Name Country ISO3  Year                      Indicator Name  \\\n",
       "1       Brazil          BRA  2018  Agricultural land (% of land area)   \n",
       "2       Brazil          BRA  2017  Agricultural land (% of land area)   \n",
       "3       Brazil          BRA  2016  Agricultural land (% of land area)   \n",
       "4       Brazil          BRA  2015  Agricultural land (% of land area)   \n",
       "5       Brazil          BRA  2014  Agricultural land (% of land area)   \n",
       "\n",
       "   Indicator Code             Value  \n",
       "1  AG.LND.AGRI.ZS  28.3410903622098  \n",
       "2  AG.LND.AGRI.ZS  28.3410663137971  \n",
       "3  AG.LND.AGRI.ZS  28.2549706035075  \n",
       "4  AG.LND.AGRI.ZS  28.1687313206048  \n",
       "5  AG.LND.AGRI.ZS  28.0824920377022  "
      ]
     },
     "metadata": {},
     "execution_count": 3
    }
   ],
   "metadata": {}
  },
  {
   "cell_type": "code",
   "execution_count": 4,
   "source": [
    "# Number of rows - dataset \r\n",
    "len(df)"
   ],
   "outputs": [
    {
     "output_type": "execute_result",
     "data": {
      "text/plain": [
       "3555"
      ]
     },
     "metadata": {},
     "execution_count": 4
    }
   ],
   "metadata": {}
  },
  {
   "cell_type": "code",
   "execution_count": 6,
   "source": [
    "# Check for missing values\r\n",
    "df.isna().sum()"
   ],
   "outputs": [
    {
     "output_type": "execute_result",
     "data": {
      "text/plain": [
       "Country Name      0\n",
       "Country ISO3      0\n",
       "Year              0\n",
       "Indicator Name    0\n",
       "Indicator Code    0\n",
       "Value             0\n",
       "dtype: int64"
      ]
     },
     "metadata": {},
     "execution_count": 6
    }
   ],
   "metadata": {}
  },
  {
   "cell_type": "code",
   "execution_count": 7,
   "source": [
    "df.info()"
   ],
   "outputs": [
    {
     "output_type": "stream",
     "name": "stdout",
     "text": [
      "<class 'pandas.core.frame.DataFrame'>\n",
      "Int64Index: 3555 entries, 1 to 3555\n",
      "Data columns (total 6 columns):\n",
      " #   Column          Non-Null Count  Dtype \n",
      "---  ------          --------------  ----- \n",
      " 0   Country Name    3555 non-null   object\n",
      " 1   Country ISO3    3555 non-null   object\n",
      " 2   Year            3555 non-null   object\n",
      " 3   Indicator Name  3555 non-null   object\n",
      " 4   Indicator Code  3555 non-null   object\n",
      " 5   Value           3555 non-null   object\n",
      "dtypes: object(6)\n",
      "memory usage: 194.4+ KB\n"
     ]
    }
   ],
   "metadata": {}
  },
  {
   "cell_type": "code",
   "execution_count": 9,
   "source": [
    "# Both \"Year\" and \"Value\" are numerical. -> change to float\r\n",
    "df [\"Year\"] = df[\"Year\"].astype (\"int64\")\r\n",
    "df [\"Value\"] = df[\"Value\"].astype (\"float\")\r\n",
    "df.info()"
   ],
   "outputs": [
    {
     "output_type": "stream",
     "name": "stdout",
     "text": [
      "<class 'pandas.core.frame.DataFrame'>\n",
      "Int64Index: 3555 entries, 1 to 3555\n",
      "Data columns (total 6 columns):\n",
      " #   Column          Non-Null Count  Dtype  \n",
      "---  ------          --------------  -----  \n",
      " 0   Country Name    3555 non-null   object \n",
      " 1   Country ISO3    3555 non-null   object \n",
      " 2   Year            3555 non-null   int64  \n",
      " 3   Indicator Name  3555 non-null   object \n",
      " 4   Indicator Code  3555 non-null   object \n",
      " 5   Value           3555 non-null   float64\n",
      "dtypes: float64(1), int64(1), object(4)\n",
      "memory usage: 194.4+ KB\n"
     ]
    }
   ],
   "metadata": {}
  },
  {
   "cell_type": "code",
   "execution_count": 10,
   "source": [
    "# Unique value in \"Indicator Name\"\r\n",
    "df[\"Indicator Name\"].unique()"
   ],
   "outputs": [
    {
     "output_type": "execute_result",
     "data": {
      "text/plain": [
       "array(['Agricultural land (% of land area)',\n",
       "       'Arable land (% of land area)',\n",
       "       'Rural land area where elevation is below 5 meters (sq. km)',\n",
       "       'Rural land area where elevation is below 5 meters (% of total land area)',\n",
       "       'Urban land area where elevation is below 5 meters (sq. km)',\n",
       "       'Urban land area where elevation is below 5 meters (% of total land area)',\n",
       "       'Land area where elevation is below 5 meters (% of total land area)',\n",
       "       'Forest area (sq. km)', 'Forest area (% of land area)',\n",
       "       'Average precipitation in depth (mm per year)',\n",
       "       'Land area (sq. km)', 'Rural land area (sq. km)',\n",
       "       'Urban land area (sq. km)', 'Surface area (sq. km)',\n",
       "       'Access to clean fuels and technologies for cooking (% of population)',\n",
       "       'Energy intensity level of primary energy (MJ/$2011 PPP GDP)',\n",
       "       'Access to electricity (% of population)',\n",
       "       'Renewable energy consumption (% of total final energy consumption)',\n",
       "       'CO2 intensity (kg per kg of oil equivalent energy use)',\n",
       "       'CO2 emissions from gaseous fuel consumption (kt)',\n",
       "       'CO2 emissions from gaseous fuel consumption (% of total)',\n",
       "       'CO2 emissions (kg per 2010 US$ of GDP)', 'CO2 emissions (kt)',\n",
       "       'CO2 emissions from liquid fuel consumption (kt)',\n",
       "       'CO2 emissions from liquid fuel consumption (% of total)',\n",
       "       'CO2 emissions (metric tons per capita)',\n",
       "       'CO2 emissions (kg per PPP $ of GDP)',\n",
       "       'CO2 emissions (kg per 2017 PPP $ of GDP)',\n",
       "       'CO2 emissions from solid fuel consumption (kt)',\n",
       "       'CO2 emissions from solid fuel consumption (% of total)',\n",
       "       'Other greenhouse gas emissions, HFC, PFC and SF6 (thousand metric tons of CO2 equivalent)',\n",
       "       'Other greenhouse gas emissions (% change from 1990)',\n",
       "       'Total greenhouse gas emissions (kt of CO2 equivalent)',\n",
       "       'Total greenhouse gas emissions (% change from 1990)',\n",
       "       'HFC gas emissions (thousand metric tons of CO2 equivalent)',\n",
       "       'Agricultural methane emissions (thousand metric tons of CO2 equivalent)',\n",
       "       'Agricultural methane emissions (% of total)',\n",
       "       'Methane emissions in energy sector (thousand metric tons of CO2 equivalent)',\n",
       "       'Energy related methane emissions (% of total)',\n",
       "       'Methane emissions (kt of CO2 equivalent)',\n",
       "       'Methane emissions (% change from 1990)',\n",
       "       'Agricultural nitrous oxide emissions (thousand metric tons of CO2 equivalent)',\n",
       "       'Agricultural nitrous oxide emissions (% of total)',\n",
       "       'Nitrous oxide emissions in energy sector (thousand metric tons of CO2 equivalent)',\n",
       "       'Nitrous oxide emissions in energy sector (% of total)',\n",
       "       'Nitrous oxide emissions (thousand metric tons of CO2 equivalent)',\n",
       "       'Nitrous oxide emissions (% change from 1990)',\n",
       "       'PFC gas emissions (thousand metric tons of CO2 equivalent)',\n",
       "       'PM2.5 air pollution, mean annual exposure (micrograms per cubic meter)',\n",
       "       'PM2.5 pollution, population exposed to levels exceeding WHO Interim Target-1 value (% of total)',\n",
       "       'PM2.5 pollution, population exposed to levels exceeding WHO Interim Target-2 value (% of total)',\n",
       "       'PM2.5 pollution, population exposed to levels exceeding WHO Interim Target-3 value (% of total)',\n",
       "       'PM2.5 air pollution, population exposed to levels exceeding WHO guideline value (% of total)',\n",
       "       'SF6 gas emissions (thousand metric tons of CO2 equivalent)',\n",
       "       'Bird species, threatened',\n",
       "       'Disaster risk reduction progress score (1-5 scale; 5=best)',\n",
       "       'GHG net emissions/removals by LUCF (Mt of CO2 equivalent)',\n",
       "       'Droughts, floods, extreme temperatures (% of population, average 1990-2009)',\n",
       "       'Fish species, threatened', 'Plant species (higher), threatened',\n",
       "       'Mammal species, threatened',\n",
       "       'Rural population living in areas where elevation is below 5 meters (% of total population)',\n",
       "       'Urban population living in areas where elevation is below 5 meters (% of total population)',\n",
       "       'Population living in areas where elevation is below 5 meters (% of total population)',\n",
       "       'Population living in slums (% of urban population)',\n",
       "       'Aquaculture production (metric tons)',\n",
       "       'Capture fisheries production (metric tons)',\n",
       "       'Total fisheries production (metric tons)',\n",
       "       'Water productivity, total (constant 2010 US$ GDP per cubic meter of total freshwater withdrawal)',\n",
       "       'Annual freshwater withdrawals, agriculture (% of total freshwater withdrawal)',\n",
       "       'Annual freshwater withdrawals, domestic (% of total freshwater withdrawal)',\n",
       "       'Annual freshwater withdrawals, industry (% of total freshwater withdrawal)',\n",
       "       'Level of water stress: freshwater withdrawal as a proportion of available freshwater resources',\n",
       "       'Annual freshwater withdrawals, total (billion cubic meters)',\n",
       "       'Annual freshwater withdrawals, total (% of internal resources)',\n",
       "       'Renewable internal freshwater resources, total (billion cubic meters)',\n",
       "       'Renewable internal freshwater resources per capita (cubic meters)',\n",
       "       'Terrestrial protected areas (% of total land area)',\n",
       "       'Marine protected areas (% of territorial waters)',\n",
       "       'Terrestrial and marine protected areas (% of total territorial area)',\n",
       "       'Adjusted savings: education expenditure (current US$)',\n",
       "       'Adjusted savings: education expenditure (% of GNI)',\n",
       "       'Adjusted savings: carbon dioxide damage (current US$)',\n",
       "       'Adjusted savings: carbon dioxide damage (% of GNI)',\n",
       "       'Adjusted savings: net forest depletion (current US$)',\n",
       "       'Adjusted savings: net forest depletion (% of GNI)',\n",
       "       'Adjusted savings: consumption of fixed capital (current US$)',\n",
       "       'Adjusted savings: consumption of fixed capital (% of GNI)',\n",
       "       'Adjusted savings: mineral depletion (current US$)',\n",
       "       'Adjusted savings: mineral depletion (% of GNI)',\n",
       "       'Adjusted savings: energy depletion (current US$)',\n",
       "       'Adjusted savings: energy depletion (% of GNI)',\n",
       "       'Adjusted savings: particulate emission damage (current US$)',\n",
       "       'Adjusted savings: particulate emission damage (% of GNI)',\n",
       "       'Adjusted savings: gross savings (% of GNI)',\n",
       "       'Adjusted savings: net national savings (current US$)',\n",
       "       'Adjusted savings: net national savings (% of GNI)',\n",
       "       'Adjusted net savings, including particulate emission damage (current US$)',\n",
       "       'Adjusted net savings, including particulate emission damage (% of GNI)',\n",
       "       'Adjusted net savings, excluding particulate emission damage (current US$)',\n",
       "       'Adjusted net savings, excluding particulate emission damage (% of GNI)',\n",
       "       'Coal rents (% of GDP)', 'Forest rents (% of GDP)',\n",
       "       'Mineral rents (% of GDP)', 'Natural gas rents (% of GDP)',\n",
       "       'Oil rents (% of GDP)', 'Total natural resources rents (% of GDP)',\n",
       "       'People using at least basic drinking water services, rural (% of rural population)',\n",
       "       'People using at least basic drinking water services, urban (% of urban population)',\n",
       "       'People using at least basic drinking water services (% of population)',\n",
       "       'People using safely managed drinking water services, urban (% of urban population)',\n",
       "       'Mortality rate attributed to household and ambient air pollution, age-standardized (per 100,000 population)',\n",
       "       'People using at least basic sanitation services, rural (% of rural population)',\n",
       "       'People using at least basic sanitation services, urban (% of urban population)',\n",
       "       'People using at least basic sanitation services (% of population)',\n",
       "       'People practicing open defecation, rural (% of rural population)',\n",
       "       'People practicing open defecation, urban (% of urban population)',\n",
       "       'People practicing open defecation (% of population)',\n",
       "       'Mortality rate attributed to unintentional poisoning (per 100,000 population)',\n",
       "       'Mortality rate attributed to unintentional poisoning, female (per 100,000 female population)',\n",
       "       'Mortality rate attributed to unintentional poisoning, male (per 100,000 male population)',\n",
       "       'People using safely managed sanitation services, urban (% of urban population)',\n",
       "       'People using safely managed sanitation services (% of population)',\n",
       "       'Mortality rate attributed to unsafe water, unsafe sanitation and lack of hygiene (per 100,000 population)'],\n",
       "      dtype=object)"
      ]
     },
     "metadata": {},
     "execution_count": 10
    }
   ],
   "metadata": {}
  },
  {
   "cell_type": "markdown",
   "source": [
    "# Data Visualisation"
   ],
   "metadata": {}
  },
  {
   "cell_type": "code",
   "execution_count": 12,
   "source": [
    "# Select dataset with 'Agricultural land (% of land area)' only\r\n",
    "agri_land = df [df [\"Indicator Name\"] == 'Agricultural land (% of land area)']\r\n",
    "agri_land.head()"
   ],
   "outputs": [
    {
     "output_type": "execute_result",
     "data": {
      "text/html": [
       "<div>\n",
       "<style scoped>\n",
       "    .dataframe tbody tr th:only-of-type {\n",
       "        vertical-align: middle;\n",
       "    }\n",
       "\n",
       "    .dataframe tbody tr th {\n",
       "        vertical-align: top;\n",
       "    }\n",
       "\n",
       "    .dataframe thead th {\n",
       "        text-align: right;\n",
       "    }\n",
       "</style>\n",
       "<table border=\"1\" class=\"dataframe\">\n",
       "  <thead>\n",
       "    <tr style=\"text-align: right;\">\n",
       "      <th></th>\n",
       "      <th>Country Name</th>\n",
       "      <th>Country ISO3</th>\n",
       "      <th>Year</th>\n",
       "      <th>Indicator Name</th>\n",
       "      <th>Indicator Code</th>\n",
       "      <th>Value</th>\n",
       "    </tr>\n",
       "  </thead>\n",
       "  <tbody>\n",
       "    <tr>\n",
       "      <th>1</th>\n",
       "      <td>Brazil</td>\n",
       "      <td>BRA</td>\n",
       "      <td>2018</td>\n",
       "      <td>Agricultural land (% of land area)</td>\n",
       "      <td>AG.LND.AGRI.ZS</td>\n",
       "      <td>28.341090</td>\n",
       "    </tr>\n",
       "    <tr>\n",
       "      <th>2</th>\n",
       "      <td>Brazil</td>\n",
       "      <td>BRA</td>\n",
       "      <td>2017</td>\n",
       "      <td>Agricultural land (% of land area)</td>\n",
       "      <td>AG.LND.AGRI.ZS</td>\n",
       "      <td>28.341066</td>\n",
       "    </tr>\n",
       "    <tr>\n",
       "      <th>3</th>\n",
       "      <td>Brazil</td>\n",
       "      <td>BRA</td>\n",
       "      <td>2016</td>\n",
       "      <td>Agricultural land (% of land area)</td>\n",
       "      <td>AG.LND.AGRI.ZS</td>\n",
       "      <td>28.254971</td>\n",
       "    </tr>\n",
       "    <tr>\n",
       "      <th>4</th>\n",
       "      <td>Brazil</td>\n",
       "      <td>BRA</td>\n",
       "      <td>2015</td>\n",
       "      <td>Agricultural land (% of land area)</td>\n",
       "      <td>AG.LND.AGRI.ZS</td>\n",
       "      <td>28.168731</td>\n",
       "    </tr>\n",
       "    <tr>\n",
       "      <th>5</th>\n",
       "      <td>Brazil</td>\n",
       "      <td>BRA</td>\n",
       "      <td>2014</td>\n",
       "      <td>Agricultural land (% of land area)</td>\n",
       "      <td>AG.LND.AGRI.ZS</td>\n",
       "      <td>28.082492</td>\n",
       "    </tr>\n",
       "  </tbody>\n",
       "</table>\n",
       "</div>"
      ],
      "text/plain": [
       "  Country Name Country ISO3  Year                      Indicator Name  \\\n",
       "1       Brazil          BRA  2018  Agricultural land (% of land area)   \n",
       "2       Brazil          BRA  2017  Agricultural land (% of land area)   \n",
       "3       Brazil          BRA  2016  Agricultural land (% of land area)   \n",
       "4       Brazil          BRA  2015  Agricultural land (% of land area)   \n",
       "5       Brazil          BRA  2014  Agricultural land (% of land area)   \n",
       "\n",
       "   Indicator Code      Value  \n",
       "1  AG.LND.AGRI.ZS  28.341090  \n",
       "2  AG.LND.AGRI.ZS  28.341066  \n",
       "3  AG.LND.AGRI.ZS  28.254971  \n",
       "4  AG.LND.AGRI.ZS  28.168731  \n",
       "5  AG.LND.AGRI.ZS  28.082492  "
      ]
     },
     "metadata": {},
     "execution_count": 12
    }
   ],
   "metadata": {}
  },
  {
   "cell_type": "code",
   "execution_count": 20,
   "source": [
    "# Define the figure size (length, height)\r\n",
    "fig, ax = plt.subplots (figsize = (12, 6))\r\n",
    "\r\n",
    "# Specify x and y axis \r\n",
    "lineplot = sns.lineplot (x = agri_land [\"Year\"], y = agri_land [\"Value\"], data = agri_land) \r\n",
    "\r\n",
    "# Remove chart border\r\n",
    "sns.despine()\r\n",
    "\r\n",
    "# Specify the y-axis label\r\n",
    "plt.ylabel (\"% of land area\")\r\n",
    "\r\n",
    "# Specify the title \r\n",
    "plt.title (\"Agricultural land cover trend in Brazil\", pad = 20)\r\n"
   ],
   "outputs": [
    {
     "output_type": "execute_result",
     "data": {
      "text/plain": [
       "Text(0.5, 1.0, 'Agricultural land cover trend in Brazil')"
      ]
     },
     "metadata": {},
     "execution_count": 20
    },
    {
     "output_type": "display_data",
     "data": {
      "image/png": "[encoded data removed]",
      "text/plain": [
       "<Figure size 864x432 with 1 Axes>"
      ]
     },
     "metadata": {
      "needs_background": "light"
     }
    }
   ],
   "metadata": {}
  },
  {
   "cell_type": "code",
   "execution_count": 29,
   "source": [
    "# Line chart for 'forest area (sq.km)\r\n",
    "\r\n",
    "# Select the dataset\r\n",
    "forest_land = df [ df[ \"Indicator Name\"] == \"Forest area (sq. km)\"]\r\n",
    "# Reset the index number for this dataset\r\n",
    "forest_land.reset_index (inplace = True)\r\n",
    "\r\n",
    "# Visualisation\r\n",
    "fig, ax = plt.subplots (figsize = (12,6))\r\n",
    "lineplot = sns.lineplot (x = forest_land [\"Year\"], y = forest_land [\"Value\"], data = forest_land) \r\n",
    "sns.despine()\r\n",
    "plt.ylabel (\"% of land area\")\r\n",
    "plt.title (\"Forest land trend in Brazil\", pad = 20)"
   ],
   "outputs": [
    {
     "output_type": "execute_result",
     "data": {
      "text/plain": [
       "Text(0.5, 1.0, 'Forest land trend in Brazil')"
      ]
     },
     "metadata": {},
     "execution_count": 29
    },
    {
     "output_type": "display_data",
     "data": {
      "image/png": "[encoded data removed]",
      "text/plain": [
       "<Figure size 864x432 with 1 Axes>"
      ]
     },
     "metadata": {
      "needs_background": "light"
     }
    }
   ],
   "metadata": {}
  },
  {
   "cell_type": "markdown",
   "source": [
    "# Combine Variables in a Chart"
   ],
   "metadata": {}
  },
  {
   "cell_type": "code",
   "execution_count": 37,
   "source": [
    "# Combined chart function\r\n",
    "\r\n",
    "def quick_line_plot (df1, title, y_label1, df2 = None, y_label2 = None):\r\n",
    "    \"\"\"\r\n",
    "    df1: Dataframe 1 \r\n",
    "    y_label1: Y axis label for the plot of dataframe 1\r\n",
    "    df2: Dataframe 2 (optional)\r\n",
    "    y_label2: Y axis label for the plot of dataframe 2 (optional) \r\n",
    "    \"\"\"\r\n",
    "    \r\n",
    "    df1 = df1.sort_values (by = \"Year\")\r\n",
    "    year_list = df1.Year.unique()\r\n",
    "    year_max = year_list [-1]\r\n",
    "    year_min = year_list [0]\r\n",
    "    x_tick_list = list (range (year_min, year_max, 2))\r\n",
    "    Label1 = df1 [\"Indicator Name\"][1]\r\n",
    "    \r\n",
    "    fig, ax = plt.subplots (figsize = (12, 6)) \r\n",
    "    lineplot = sns.lineplot (x = df1 [\"Year\"], y = df1 [\"Value\"], \r\n",
    "                             data = df1, label = Label1, legend = False)\r\n",
    "    lineplot.set (xlim = (year_min -1, year_max +1))\r\n",
    "    plt.xticks (x_tick_list, rotation = 45) # rotate the x-axis labels\r\n",
    "    sns.despine()\r\n",
    "    plt.ylabel (y_label1)\r\n",
    "    plt.title (title, pad = 20)\r\n",
    "    \r\n",
    "    if df2 is not None:\r\n",
    "        ax2 = ax.twinx()\r\n",
    "        Label2 = df2 [\"Indicator Name\"][1]\r\n",
    "        lineplot2 = sns.lineplot (x = df2 [\"Year\"], y = df2 [\"Value\"],\r\n",
    "                                  ax = ax2, color = \"r\", label = Label2, legend = False)\r\n",
    "        sns.despine (right = False)\r\n",
    "        plt.ylabel (y_label2)\r\n",
    "    ax.figure.legend()"
   ],
   "outputs": [],
   "metadata": {}
  },
  {
   "cell_type": "code",
   "execution_count": 38,
   "source": [
    "quick_line_plot (agri_land [agri_land.Year >= 1990], \"Agricultural and Forest Land Trend in Brazil\",\r\n",
    "                 \"% of land area\", forest_land, \"sq. km\")"
   ],
   "outputs": [
    {
     "output_type": "display_data",
     "data": {
      "image/png": "[encoded data removed]",
      "text/plain": [
       "<Figure size 864x432 with 2 Axes>"
      ]
     },
     "metadata": {
      "needs_background": "light"
     }
    }
   ],
   "metadata": {}
  }
 ],
 "metadata": {
  "orig_nbformat": 4,
  "language_info": {
   "name": "python",
   "version": "3.8.11",
   "mimetype": "text/x-python",
   "codemirror_mode": {
    "name": "ipython",
    "version": 3
   },
   "pygments_lexer": "ipython3",
   "nbconvert_exporter": "python",
   "file_extension": ".py"
  },
  "kernelspec": {
   "name": "python3",
   "display_name": "Python 3.8.11 64-bit ('base': conda)"
  },
  "interpreter": {
   "hash": "26fd1259fd489d5a6421297310a87215120db0e832edde80825b8ced8638d752"
  }
 },
 "nbformat": 4,
 "nbformat_minor": 2
}