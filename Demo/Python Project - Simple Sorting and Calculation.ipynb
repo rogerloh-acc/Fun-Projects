{
 "cells": [
  {
   "cell_type": "code",
   "execution_count": 1,
   "metadata": {},
   "outputs": [],
   "source": [
    "#Import the pandas library\n",
    "import pandas as pd "
   ]
  },
  {
   "cell_type": "code",
   "execution_count": 2,
   "metadata": {},
   "outputs": [],
   "source": [
    "#Read the input file\n",
    "df = pd.read_excel(\"C:\\\\Users\\\\roger\\\\Python Data\\\\Kedai Harimau - Source.xlsx\", sheet_name = \"Sheet1\")"
   ]
  },
  {
   "cell_type": "code",
   "execution_count": 3,
   "metadata": {},
   "outputs": [],
   "source": [
    "# 1. Extract the relevant columns - Category, Revenue, COGS\n",
    "df = df[[\"Category\", \"Revenue\", \"COGS\"]]"
   ]
  },
  {
   "cell_type": "code",
   "execution_count": 4,
   "metadata": {},
   "outputs": [],
   "source": [
    "#2. Create a Pivot Table by grouping by Category, using sum ()\n",
    "df = df.groupby(\"Category\").sum()"
   ]
  },
  {
   "cell_type": "code",
   "execution_count": 5,
   "metadata": {},
   "outputs": [],
   "source": [
    "#3. Calculate Profit\n",
    "df[\"Profit\"] = df[\"Revenue\"] - df[\"COGS\"]"
   ]
  },
  {
   "cell_type": "code",
   "execution_count": 6,
   "metadata": {},
   "outputs": [],
   "source": [
    "#4. Sort Profit from highest to lowest\n",
    "df.sort_values (\"Profit\", ascending = False, inplace = True)"
   ]
  },
  {
   "cell_type": "code",
   "execution_count": 7,
   "metadata": {},
   "outputs": [],
   "source": [
    "#5. Calculate Profit %\n",
    "df[\"Profit %\"] = (df[\"Profit\"] / df[\"Profit\"].sum() ) * 100"
   ]
  },
  {
   "cell_type": "code",
   "execution_count": 8,
   "metadata": {},
   "outputs": [],
   "source": [
    "#6. Calculate Cummulative %\n",
    "df[\"Cum %\"] = df[\"Profit %\"].cumsum()"
   ]
  },
  {
   "cell_type": "code",
   "execution_count": 9,
   "metadata": {},
   "outputs": [],
   "source": [
    "#7. Export to an Excel file called \"Harimau Profit Report\"\n",
    "df.to_excel(\"C:\\\\Users\\\\roger\\\\Python Data\\\\Harimau Profit Report.xlsx\", sheet_name = \"Sheet1\", index = True)"
   ]
  }
 ],
 "metadata": {
  "kernelspec": {
   "display_name": "Python 3",
   "language": "python",
   "name": "python3"
  },
  "language_info": {
   "codemirror_mode": {
    "name": "ipython",
    "version": 3
   },
   "file_extension": ".py",
   "mimetype": "text/x-python",
   "name": "python",
   "nbconvert_exporter": "python",
   "pygments_lexer": "ipython3",
   "version": "3.8.5"
  }
 },
 "nbformat": 4,
 "nbformat_minor": 4
}
