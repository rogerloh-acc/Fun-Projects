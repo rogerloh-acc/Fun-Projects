{
 "cells": [
  {
   "cell_type": "code",
   "execution_count": 1,
   "source": [
    "#Import the pandas library\r\n",
    "import pandas as pd "
   ],
   "outputs": [],
   "metadata": {}
  },
  {
   "cell_type": "code",
   "execution_count": 2,
   "source": [
    "# 1. Read the input file and extract the relevant columns - Category, Revenue, COGS\r\n",
    "df = pd.read_csv (\"https://raw.githubusercontent.com/rogerloh-acc/Fun-Projects/main/Demo/Kedai%20Harimau%20-%20Source.csv\", \r\n",
    "                header = 0, names = [\"Category\", \"Revenue\", \"COGS\"])\r\n",
    "print (df.head())"
   ],
   "outputs": [
    {
     "output_type": "stream",
     "name": "stdout",
     "text": [
      "                     Category  Revenue    COGS\n",
      "1 Apple                Fruits    478.0  420.64\n",
      "2 Asparagus            Fruits    165.0  145.53\n",
      "3 Bacon                  Meat     65.0   47.19\n",
      "4 Bananas              Fruits     85.0   72.93\n",
      "5 Beef, Bonless Stew     Meat    421.0  331.75\n"
     ]
    }
   ],
   "metadata": {}
  },
  {
   "cell_type": "code",
   "execution_count": 3,
   "source": [
    "#2. Create a Pivot Table by grouping by Category, using sum ()\r\n",
    "df = df.groupby(\"Category\").sum()\r\n",
    "print (df)"
   ],
   "outputs": [
    {
     "output_type": "stream",
     "name": "stdout",
     "text": [
      "                    Revenue     COGS\n",
      "Category                            \n",
      "Cleaning             1609.0  1401.23\n",
      "Dry/Canned Goods     6890.0  5372.86\n",
      "Frozen Food          1047.0   879.90\n",
      "Fruits               6663.0  5394.89\n",
      "Meat                 7731.0  6208.87\n",
      "Refrigerated Items   2500.0  1925.07\n"
     ]
    }
   ],
   "metadata": {}
  },
  {
   "cell_type": "code",
   "execution_count": 4,
   "source": [
    "#3. Calculate Profit\r\n",
    "df[\"Profit\"] = df[\"Revenue\"] - df[\"COGS\"]\r\n",
    "print (df)"
   ],
   "outputs": [
    {
     "output_type": "stream",
     "name": "stdout",
     "text": [
      "                    Revenue     COGS   Profit\n",
      "Category                                     \n",
      "Cleaning             1609.0  1401.23   207.77\n",
      "Dry/Canned Goods     6890.0  5372.86  1517.14\n",
      "Frozen Food          1047.0   879.90   167.10\n",
      "Fruits               6663.0  5394.89  1268.11\n",
      "Meat                 7731.0  6208.87  1522.13\n",
      "Refrigerated Items   2500.0  1925.07   574.93\n"
     ]
    }
   ],
   "metadata": {}
  },
  {
   "cell_type": "code",
   "execution_count": 5,
   "source": [
    "#4. Sort Profit from highest to lowest\r\n",
    "df.sort_values (\"Profit\", ascending = False, inplace = True)\r\n",
    "print (df)"
   ],
   "outputs": [
    {
     "output_type": "stream",
     "name": "stdout",
     "text": [
      "                    Revenue     COGS   Profit\n",
      "Category                                     \n",
      "Meat                 7731.0  6208.87  1522.13\n",
      "Dry/Canned Goods     6890.0  5372.86  1517.14\n",
      "Fruits               6663.0  5394.89  1268.11\n",
      "Refrigerated Items   2500.0  1925.07   574.93\n",
      "Cleaning             1609.0  1401.23   207.77\n",
      "Frozen Food          1047.0   879.90   167.10\n"
     ]
    }
   ],
   "metadata": {}
  },
  {
   "cell_type": "code",
   "execution_count": 6,
   "source": [
    "#5. Calculate Profit %\r\n",
    "df[\"Profit %\"] = (df[\"Profit\"] / df[\"Profit\"].sum() ) * 100\r\n",
    "print (df)"
   ],
   "outputs": [
    {
     "output_type": "stream",
     "name": "stdout",
     "text": [
      "                    Revenue     COGS   Profit   Profit %\n",
      "Category                                                \n",
      "Meat                 7731.0  6208.87  1522.13  28.953355\n",
      "Dry/Canned Goods     6890.0  5372.86  1517.14  28.858437\n",
      "Fruits               6663.0  5394.89  1268.11  24.121487\n",
      "Refrigerated Items   2500.0  1925.07   574.93  10.936091\n",
      "Cleaning             1609.0  1401.23   207.77   3.952119\n",
      "Frozen Food          1047.0   879.90   167.10   3.178510\n"
     ]
    }
   ],
   "metadata": {}
  },
  {
   "cell_type": "code",
   "execution_count": 7,
   "source": [
    "#6. Calculate Cummulative %\r\n",
    "df[\"Cum %\"] = df[\"Profit %\"].cumsum()\r\n",
    "print (df)"
   ],
   "outputs": [
    {
     "output_type": "stream",
     "name": "stdout",
     "text": [
      "                    Revenue     COGS   Profit   Profit %       Cum %\n",
      "Category                                                            \n",
      "Meat                 7731.0  6208.87  1522.13  28.953355   28.953355\n",
      "Dry/Canned Goods     6890.0  5372.86  1517.14  28.858437   57.811793\n",
      "Fruits               6663.0  5394.89  1268.11  24.121487   81.933280\n",
      "Refrigerated Items   2500.0  1925.07   574.93  10.936091   92.869371\n",
      "Cleaning             1609.0  1401.23   207.77   3.952119   96.821490\n",
      "Frozen Food          1047.0   879.90   167.10   3.178510  100.000000\n"
     ]
    }
   ],
   "metadata": {}
  }
 ],
 "metadata": {
  "kernelspec": {
   "name": "python3",
   "display_name": "Python 3.8.5 64-bit ('base': conda)"
  },
  "language_info": {
   "codemirror_mode": {
    "name": "ipython",
    "version": 3
   },
   "file_extension": ".py",
   "mimetype": "text/x-python",
   "name": "python",
   "nbconvert_exporter": "python",
   "pygments_lexer": "ipython3",
   "version": "3.8.5"
  },
  "interpreter": {
   "hash": "b3ba2566441a7c06988d0923437866b63cedc61552a5af99d1f4fb67d367b25f"
  }
 },
 "nbformat": 4,
 "nbformat_minor": 4
}