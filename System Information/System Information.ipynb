{
 "cells": [
  {
   "cell_type": "code",
   "execution_count": null,
   "source": [
    "# pip install wmi\r\n",
    "# Import Library\r\n",
    "import wmi"
   ],
   "outputs": [],
   "metadata": {}
  },
  {
   "cell_type": "code",
   "execution_count": null,
   "source": [
    "c = wmi.WMI()\r\n",
    "my_system = c.Win32_ComputerSystem ()[0]"
   ],
   "outputs": [],
   "metadata": {}
  },
  {
   "cell_type": "code",
   "execution_count": null,
   "source": [
    "print (f\"Manufacturer: {my_system.Manufacturer}\")\r\n",
    "print (f\"Model: {my_system.Model}\")\r\n",
    "print (f\"Name: {my_system.Name}\")\r\n",
    "print (f\"Number of Processor: {my_system.NumberOfProcessors}\")\r\n",
    "print (f\"System Type: {my_system.SystemType}\")\r\n",
    "print (f\"System Family: {my_system.SystemFamily}\")"
   ],
   "outputs": [],
   "metadata": {}
  }
 ],
 "metadata": {
  "orig_nbformat": 4,
  "language_info": {
   "name": "python",
   "version": "3.8.11",
   "mimetype": "text/x-python",
   "codemirror_mode": {
    "name": "ipython",
    "version": 3
   },
   "pygments_lexer": "ipython3",
   "nbconvert_exporter": "python",
   "file_extension": ".py"
  },
  "kernelspec": {
   "name": "python3",
   "display_name": "Python 3.8.11 64-bit ('base': conda)"
  },
  "interpreter": {
   "hash": "26fd1259fd489d5a6421297310a87215120db0e832edde80825b8ced8638d752"
  }
 },
 "nbformat": 4,
 "nbformat_minor": 2
}