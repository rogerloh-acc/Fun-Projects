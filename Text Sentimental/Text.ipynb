{
 "cells": [
  {
   "cell_type": "code",
   "execution_count": 2,
   "source": [
    "from textblob import TextBlob"
   ],
   "outputs": [],
   "metadata": {}
  },
  {
   "cell_type": "code",
   "execution_count": 3,
   "source": [
    "test = TextBlob ('''Beautiful is better than ugly.\r\n",
    "Explicit is better than implicit.\r\n",
    "Simple is better than complex.\r\n",
    "Complex is better than complicated.\r\n",
    "Flat is better than nested.\r\n",
    "Sparse is better than dense.\r\n",
    "Readability counts.\r\n",
    "Special cases aren't special enough to break the rules.\r\n",
    "Although practicality beats purity.\r\n",
    "Errors should never pass silently.\r\n",
    "Unless explicitly silenced.\r\n",
    "In the face of ambiguity, refuse the temptation to guess.\r\n",
    "There should be one-- and preferably only one --obvious way to do it.\r\n",
    "Although that way may not be obvious at first unless you're Dutch.\r\n",
    "Now is better than never.\r\n",
    "Although never is often better than *right* now.\r\n",
    "If the implementation is hard to explain, it's a bad idea.\r\n",
    "If the implementation is easy to explain, it may be a good idea.\r\n",
    "Namespaces are one honking great idea -- let's do more of those!''')"
   ],
   "outputs": [],
   "metadata": {}
  },
  {
   "cell_type": "markdown",
   "source": [
    "# Sentimental Analysis"
   ],
   "metadata": {}
  },
  {
   "cell_type": "code",
   "execution_count": 6,
   "source": [
    "test.sentiment"
   ],
   "outputs": [
    {
     "output_type": "execute_result",
     "data": {
      "text/plain": [
       "Sentiment(polarity=0.19472222222222227, subjectivity=0.5595238095238095)"
      ]
     },
     "metadata": {},
     "execution_count": 6
    }
   ],
   "metadata": {}
  },
  {
   "cell_type": "code",
   "execution_count": 7,
   "source": [
    "test.sentiment.polarity"
   ],
   "outputs": [
    {
     "output_type": "execute_result",
     "data": {
      "text/plain": [
       "0.19472222222222227"
      ]
     },
     "metadata": {},
     "execution_count": 7
    }
   ],
   "metadata": {}
  },
  {
   "cell_type": "code",
   "execution_count": null,
   "source": [],
   "outputs": [],
   "metadata": {}
  }
 ],
 "metadata": {
  "orig_nbformat": 4,
  "language_info": {
   "name": "python",
   "version": "3.8.11",
   "mimetype": "text/x-python",
   "codemirror_mode": {
    "name": "ipython",
    "version": 3
   },
   "pygments_lexer": "ipython3",
   "nbconvert_exporter": "python",
   "file_extension": ".py"
  },
  "kernelspec": {
   "name": "python3",
   "display_name": "Python 3.8.11 64-bit ('base': conda)"
  },
  "interpreter": {
   "hash": "26fd1259fd489d5a6421297310a87215120db0e832edde80825b8ced8638d752"
  }
 },
 "nbformat": 4,
 "nbformat_minor": 2
}