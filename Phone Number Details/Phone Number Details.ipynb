{
 "cells": [
  {
   "cell_type": "code",
   "execution_count": 1,
   "source": [
    "# Import liabaries\r\n",
    "import phonenumbers\r\n",
    "from phonenumbers import carrier, geocoder, timezone"
   ],
   "outputs": [],
   "metadata": {}
  },
  {
   "cell_type": "code",
   "execution_count": 2,
   "source": [
    "# Input \r\n",
    "\r\n",
    "mobile = input (\"Enter Mobile Number with Country Code (+Country Code)XXXXXXX: \")\r\n",
    "mobile = phonenumbers.parse (mobile)"
   ],
   "outputs": [],
   "metadata": {}
  },
  {
   "cell_type": "code",
   "execution_count": 3,
   "source": [
    "# Get the timezone of the phone number\r\n",
    "\r\n",
    "print (timezone.time_zones_for_number (mobile))"
   ],
   "outputs": [
    {
     "output_type": "stream",
     "name": "stdout",
     "text": [
      "('Asia/Kuching',)\n"
     ]
    }
   ],
   "metadata": {}
  },
  {
   "cell_type": "code",
   "execution_count": 4,
   "source": [
    "# Get the regional information\r\n",
    "\r\n",
    "print (geocoder.description_for_number (mobile, \"en\"))"
   ],
   "outputs": [
    {
     "output_type": "stream",
     "name": "stdout",
     "text": [
      "Malaysia\n"
     ]
    }
   ],
   "metadata": {}
  },
  {
   "cell_type": "code",
   "execution_count": 5,
   "source": [
    "# Get the mobile carrier\r\n",
    "\r\n",
    "print (carrier.name_for_number (mobile, \"en\"))"
   ],
   "outputs": [
    {
     "output_type": "stream",
     "name": "stdout",
     "text": [
      "DiGi\n"
     ]
    }
   ],
   "metadata": {}
  },
  {
   "cell_type": "code",
   "execution_count": 6,
   "source": [
    "# Validate a phone number\r\n",
    "\r\n",
    "print (\"Valid phone number:\", phonenumbers.is_valid_number (mobile))"
   ],
   "outputs": [
    {
     "output_type": "stream",
     "name": "stdout",
     "text": [
      "Valid phone number: True\n"
     ]
    }
   ],
   "metadata": {}
  },
  {
   "cell_type": "code",
   "execution_count": 7,
   "source": [
    "# Check possibility of number\r\n",
    "\r\n",
    "print (\"Check possibility of number:\", phonenumbers.is_possible_number (mobile))"
   ],
   "outputs": [
    {
     "output_type": "stream",
     "name": "stdout",
     "text": [
      "Check possibility of number: True\n"
     ]
    }
   ],
   "metadata": {}
  }
 ],
 "metadata": {
  "orig_nbformat": 4,
  "language_info": {
   "name": "python",
   "version": "3.8.11",
   "mimetype": "text/x-python",
   "codemirror_mode": {
    "name": "ipython",
    "version": 3
   },
   "pygments_lexer": "ipython3",
   "nbconvert_exporter": "python",
   "file_extension": ".py"
  },
  "kernelspec": {
   "name": "python3",
   "display_name": "Python 3.8.11 64-bit ('base': conda)"
  },
  "interpreter": {
   "hash": "26fd1259fd489d5a6421297310a87215120db0e832edde80825b8ced8638d752"
  }
 },
 "nbformat": 4,
 "nbformat_minor": 2
}