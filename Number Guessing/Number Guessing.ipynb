{
    "cells": [
        {
            "cell_type": "code",
            "execution_count": 21,
            "source": [
                "# Import Library\r\n",
                "import random\r\n",
                "import math"
            ],
            "outputs": [],
            "metadata": {}
        },
        {
            "cell_type": "code",
            "execution_count": 22,
            "source": [
                "# Taking Inputs \r\n",
                "lower = int ( input (\" Enter Lower bound: \"))\r\n",
                "upper = int (input (\" Enter Upper bound: \"))"
            ],
            "outputs": [],
            "metadata": {}
        },
        {
            "cell_type": "code",
            "execution_count": 23,
            "source": [
                "# Generating random number \r\n",
                "x = random.randint (lower, upper)"
            ],
            "outputs": [],
            "metadata": {}
        },
        {
            "cell_type": "code",
            "execution_count": 24,
            "source": [
                "# Take a guess \r\n",
                "guess = int (input (\"Guess a number: \"))"
            ],
            "outputs": [],
            "metadata": {}
        },
        {
            "cell_type": "code",
            "execution_count": 25,
            "source": [
                "# Condition testing \r\n",
                "if x == guess: \r\n",
                "    print (\"Congratulations. You guessed it.\")\r\n",
                "else:\r\n",
                "    print (\"Better luck next time.\")"
            ],
            "outputs": [
                {
                    "output_type": "stream",
                    "name": "stdout",
                    "text": [
                        "Better luck next time.\n"
                    ]
                }
            ],
            "metadata": {}
        }
    ],
    "metadata": {
        "orig_nbformat": 4,
        "language_info": {
            "name": "python",
            "version": "3.8.5",
            "mimetype": "text/x-python",
            "codemirror_mode": {
                "name": "ipython",
                "version": 3
            },
            "pygments_lexer": "ipython3",
            "nbconvert_exporter": "python",
            "file_extension": ".py"
        },
        "kernelspec": {
            "name": "python3",
            "display_name": "Python 3.8.5 64-bit ('base': conda)"
        },
        "interpreter": {
            "hash": "b3ba2566441a7c06988d0923437866b63cedc61552a5af99d1f4fb67d367b25f"
        }
    },
    "nbformat": 4,
    "nbformat_minor": 2
}