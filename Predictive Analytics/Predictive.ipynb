{
 "cells": [
  {
   "cell_type": "code",
   "execution_count": 1,
   "metadata": {},
   "outputs": [],
   "source": [
    "# Import library\n",
    "import pandas as pd \n",
    "import numpy as np\n",
    "\n",
    "from sklearn.model_selection import train_test_split\n",
    "from sklearn.impute import SimpleImputer\n",
    "\n",
    "import matplotlib.pylab as plt"
   ]
  },
  {
   "cell_type": "code",
   "execution_count": 2,
   "metadata": {},
   "outputs": [],
   "source": [
    "# Import data\n",
    "data = pd.read_csv (\"../Predictive Analytics/insurance.csv\")"
   ]
  },
  {
   "cell_type": "code",
   "execution_count": 3,
   "metadata": {},
   "outputs": [
    {
     "name": "stdout",
     "output_type": "stream",
     "text": [
      "    age     sex     bmi  children smoker     region      charges\n",
      "0    19  female  27.900         0    yes  southwest  16884.92400\n",
      "1    18    male  33.770         1     no  southeast   1725.55230\n",
      "2    28    male  33.000         3     no  southeast   4449.46200\n",
      "3    33    male  22.705         0     no  northwest  21984.47061\n",
      "4    32    male  28.880         0     no  northwest   3866.85520\n",
      "5    31  female  25.740         0     no  southeast   3756.62160\n",
      "6    46  female  33.440         1     no  southeast   8240.58960\n",
      "7    37  female  27.740         3     no  northwest   7281.50560\n",
      "8    37    male  29.830         2     no  northeast   6406.41070\n",
      "9    60  female  25.840         0     no  northwest  28923.13692\n",
      "10   25    male  26.220         0     no  northeast   2721.32080\n",
      "11   62  female  26.290         0    yes  southeast  27808.72510\n",
      "12   23    male  34.400         0     no  southwest   1826.84300\n",
      "13   56  female  39.820         0     no  southeast  11090.71780\n",
      "14   27    male     NaN         0    yes  southeast  39611.75770\n"
     ]
    }
   ],
   "source": [
    "# See first 15 lines of data\n",
    "print (data.head(15))"
   ]
  },
  {
   "cell_type": "markdown",
   "metadata": {},
   "source": [
    "### Data Preparation"
   ]
  },
  {
   "cell_type": "code",
   "execution_count": 4,
   "metadata": {},
   "outputs": [
    {
     "name": "stdout",
     "output_type": "stream",
     "text": [
      "bmi    5\n",
      "dtype: int64\n"
     ]
    }
   ],
   "source": [
    "# Check how many values are missing \n",
    "count_nan = data.isnull().sum()\n",
    "print (count_nan[count_nan>0])"
   ]
  },
  {
   "cell_type": "code",
   "execution_count": 5,
   "metadata": {},
   "outputs": [],
   "source": [
    "# Fill in the missing values \n",
    "data [\"bmi\"].fillna(data[\"bmi\"].mean(), inplace = True)"
   ]
  },
  {
   "cell_type": "code",
   "execution_count": 6,
   "metadata": {},
   "outputs": [
    {
     "name": "stdout",
     "output_type": "stream",
     "text": [
      "Series([], dtype: int64)\n"
     ]
    }
   ],
   "source": [
    "# Check the missing values again\n",
    "count_nan = data.isnull().sum()\n",
    "print (count_nan[count_nan>0])"
   ]
  },
  {
   "cell_type": "code",
   "execution_count": 7,
   "metadata": {},
   "outputs": [
    {
     "name": "stdout",
     "output_type": "stream",
     "text": [
      "Sklearn label encoder results for sex:\n",
      "{'female': 0, 'male': 1}\n",
      "  sex\n",
      "0   0\n",
      "1   1\n",
      "2   1\n",
      "3   1\n",
      "4   1\n",
      "5   0\n",
      "6   0\n",
      "7   0\n",
      "8   1\n",
      "9   0\n"
     ]
    }
   ],
   "source": [
    "# Convert categorical data into numbers\n",
    "# Sklearn label encoding: map each category to a difference integer\n",
    "from sklearn.preprocessing import OneHotEncoder\n",
    "from sklearn.preprocessing import LabelEncoder\n",
    "\n",
    "#create ndarray for label encodoing (sklearn)\n",
    "sex = data.iloc[:,1:2].values\n",
    "smoker = data.iloc[:,4:5].values\n",
    "\n",
    "#label encoder = le\n",
    "\n",
    "## le for sex\n",
    "le = LabelEncoder()\n",
    "sex[:,0] = le.fit_transform(sex[:,0])\n",
    "sex = pd.DataFrame(sex)\n",
    "sex.columns = ['sex']\n",
    "le_sex_mapping = dict(zip(le.classes_, le.transform(le.classes_)))\n",
    "print(\"Sklearn label encoder results for sex:\") \n",
    "print(le_sex_mapping)\n",
    "print(sex[:10])\n",
    "\n",
    "##\n"
   ]
  }
 ],
 "metadata": {
  "interpreter": {
   "hash": "9909264b6bdbca3045af8bd3e6a0b6c0c29d38c2a192ba1c83bb2539a765db59"
  },
  "kernelspec": {
   "display_name": "Python 3.8.11 ('base')",
   "language": "python",
   "name": "python3"
  },
  "language_info": {
   "codemirror_mode": {
    "name": "ipython",
    "version": 3
   },
   "file_extension": ".py",
   "mimetype": "text/x-python",
   "name": "python",
   "nbconvert_exporter": "python",
   "pygments_lexer": "ipython3",
   "version": "3.8.11"
  },
  "orig_nbformat": 4
 },
 "nbformat": 4,
 "nbformat_minor": 2
}
