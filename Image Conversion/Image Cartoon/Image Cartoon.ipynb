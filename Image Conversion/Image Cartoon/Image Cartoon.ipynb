{
 "cells": [
  {
   "cell_type": "code",
   "execution_count": 18,
   "source": [
    "# Import libraries \r\n",
    "import cv2\r\n",
    "import numpy as pd"
   ],
   "outputs": [],
   "metadata": {}
  },
  {
   "cell_type": "code",
   "execution_count": 19,
   "source": [
    "# Read Image \r\n",
    "img = cv2.imread (\"Tom_Cruise.jpg\")"
   ],
   "outputs": [],
   "metadata": {}
  },
  {
   "cell_type": "code",
   "execution_count": 20,
   "source": [
    "# Edges \r\n",
    "gray = cv2.cvtColor (img, cv2.COLOR_BGR2GRAY)\r\n",
    "gray = cv2.medianBlur (gray, 5)\r\n",
    "edges = cv2.adaptiveThreshold (gray, 255,\r\n",
    "                                cv2.ADAPTIVE_THRESH_MEAN_C,\r\n",
    "                                cv2.THRESH_BINARY, 9, 9)"
   ],
   "outputs": [],
   "metadata": {}
  },
  {
   "cell_type": "code",
   "execution_count": 21,
   "source": [
    "# Cartonisation\r\n",
    "color = cv2.bilateralFilter (img, d = 7, sigmaColor = 250, sigmaSpace = 250)\r\n",
    "cartoon = cv2.bitwise_and (color, color, mask = edges)"
   ],
   "outputs": [],
   "metadata": {}
  },
  {
   "cell_type": "code",
   "execution_count": 22,
   "source": [
    "# Save Cartoon Image\r\n",
    "cv2.imwrite(\"image cartoon.png\", cartoon)"
   ],
   "outputs": [
    {
     "output_type": "execute_result",
     "data": {
      "text/plain": [
       "True"
      ]
     },
     "metadata": {},
     "execution_count": 22
    }
   ],
   "metadata": {}
  },
  {
   "cell_type": "code",
   "execution_count": 23,
   "source": [
    "# Image Show \r\n",
    "cv2.imshow (\"Cartoon\", cartoon)\r\n",
    "cv2.waitKey(0)\r\n",
    "cv2.destroyAllWindows()"
   ],
   "outputs": [],
   "metadata": {}
  }
 ],
 "metadata": {
  "orig_nbformat": 4,
  "language_info": {
   "name": "python",
   "version": "3.8.11",
   "mimetype": "text/x-python",
   "codemirror_mode": {
    "name": "ipython",
    "version": 3
   },
   "pygments_lexer": "ipython3",
   "nbconvert_exporter": "python",
   "file_extension": ".py"
  },
  "kernelspec": {
   "name": "python3",
   "display_name": "Python 3.8.11 64-bit ('base': conda)"
  },
  "interpreter": {
   "hash": "26fd1259fd489d5a6421297310a87215120db0e832edde80825b8ced8638d752"
  }
 },
 "nbformat": 4,
 "nbformat_minor": 2
}