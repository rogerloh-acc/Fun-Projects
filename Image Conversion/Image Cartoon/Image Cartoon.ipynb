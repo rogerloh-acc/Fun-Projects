{
 "cells": [
  {
   "cell_type": "code",
   "execution_count": 22,
   "source": [
    "# Import libraries \r\n",
    "import cv2\r\n",
    "import numpy as pd"
   ],
   "outputs": [],
   "metadata": {}
  },
  {
   "cell_type": "code",
   "execution_count": 23,
   "source": [
    "# Read Image \r\n",
    "img = cv2.imread (\"yui.jpg\")"
   ],
   "outputs": [],
   "metadata": {}
  },
  {
   "cell_type": "code",
   "execution_count": 24,
   "source": [
    "# Edges \r\n",
    "gray = cv2.cvtColor (img, cv2.COLOR_BGR2GRAY)\r\n",
    "gray = cv2.medianBlur (gray, 5)\r\n",
    "edges = cv2.adaptiveThreshold (gray, 255,\r\n",
    "                                cv2.ADAPTIVE_THRESH_MEAN_C,\r\n",
    "                                cv2.THRESH_BINARY, 9, 9)"
   ],
   "outputs": [],
   "metadata": {}
  },
  {
   "cell_type": "code",
   "execution_count": 25,
   "source": [
    "# Cartonisation\r\n",
    "color = cv2.bilateralFilter (img, d = 9, sigmaColor = 300, sigmaSpace = 300)\r\n",
    "cartoon = cv2.bitwise_and (color, color, mask = edges)"
   ],
   "outputs": [],
   "metadata": {}
  },
  {
   "cell_type": "code",
   "execution_count": 26,
   "source": [
    "# Save Cartoon Image\r\n",
    "cv2.imwrite(\"image cartoon.png\", cartoon)"
   ],
   "outputs": [
    {
     "output_type": "execute_result",
     "data": {
      "text/plain": [
       "True"
      ]
     },
     "metadata": {},
     "execution_count": 26
    }
   ],
   "metadata": {}
  },
  {
   "cell_type": "code",
   "execution_count": 27,
   "source": [
    "# Image Show \r\n",
    "cv2.imshow (\"Cartoon\", cartoon)\r\n",
    "cv2.waitKey(0)\r\n",
    "cv2.destroyAllWindows()"
   ],
   "outputs": [],
   "metadata": {}
  }
 ],
 "metadata": {
  "orig_nbformat": 4,
  "language_info": {
   "name": "python",
   "version": "3.8.11",
   "mimetype": "text/x-python",
   "codemirror_mode": {
    "name": "ipython",
    "version": 3
   },
   "pygments_lexer": "ipython3",
   "nbconvert_exporter": "python",
   "file_extension": ".py"
  },
  "kernelspec": {
   "name": "python3",
   "display_name": "Python 3.8.11 64-bit ('base': conda)"
  },
  "interpreter": {
   "hash": "26fd1259fd489d5a6421297310a87215120db0e832edde80825b8ced8638d752"
  }
 },
 "nbformat": 4,
 "nbformat_minor": 2
}