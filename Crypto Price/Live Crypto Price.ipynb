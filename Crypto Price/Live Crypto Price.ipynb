{
 "cells": [
  {
   "cell_type": "code",
   "execution_count": 59,
   "source": [
    "# Impport library \r\n",
    "from bs4 import BeautifulSoup \r\n",
    "import requests\r\n",
    "import time"
   ],
   "outputs": [],
   "metadata": {}
  },
  {
   "cell_type": "code",
   "execution_count": 60,
   "source": [
    "# print(soup.prettify())\r\n",
    "# div class=\"BNeawe iBp4i AP7Wnd\"\r\n",
    "# Create a function to get the Crypto price \r\n",
    "def get_price (coin):\r\n",
    "     # Bitcoin price link\r\n",
    "     url = \"https://www.google.com/search?q=\"+coin+\"+price\"\r\n",
    "\r\n",
    "     # Make a request to the link\r\n",
    "     HTML = requests.get (url)\r\n",
    "\r\n",
    "     # Parse the HTML\r\n",
    "     soup = BeautifulSoup (HTML.text, \"html.parser\")\r\n",
    "\r\n",
    "     # Find the current price \r\n",
    "     text = soup.find (\"div\", attrs = {\"class\": \"BNeawe iBp4i AP7Wnd\"}).find (\"div\", attrs = {\"class\": \"BNeawe iBp4i AP7Wnd\"}).text\r\n",
    "     \r\n",
    "     # Return the text\r\n",
    "     return text"
   ],
   "outputs": [],
   "metadata": {}
  },
  {
   "cell_type": "code",
   "execution_count": 61,
   "source": [
    "# Get the price of Crypto price\r\n",
    "coin = input(\"Which crptocurrency you are looking at: \") \r\n",
    "price = get_price (coin)\r\n",
    "\r\n",
    "# Print the price \r\n",
    "print (price)"
   ],
   "outputs": [
    {
     "output_type": "stream",
     "name": "stdout",
     "text": [
      "206,951.29 Malaysian Ringgit\n"
     ]
    }
   ],
   "metadata": {}
  },
  {
   "cell_type": "code",
   "execution_count": 62,
   "source": [
    "# Create a function to consistently show the Cypto price when it changes \r\n",
    "def main():\r\n",
    "    last_price = -1\r\n",
    "    # Create a loop to consistently show the price \r\n",
    "    while True: \r\n",
    "        crypto = coin\r\n",
    "        price = get_price (crypto)\r\n",
    "        if price != last_price:\r\n",
    "            print (crypto + \" price: \", price)\r\n",
    "            last_price = price \r\n",
    "        time.sleep(3)"
   ],
   "outputs": [],
   "metadata": {}
  },
  {
   "cell_type": "code",
   "execution_count": 63,
   "source": [
    "# Execute the main function\r\n",
    "main()"
   ],
   "outputs": [
    {
     "output_type": "stream",
     "name": "stdout",
     "text": [
      "bitcoin price:  206,951.29 Malaysian Ringgit\n"
     ]
    }
   ],
   "metadata": {}
  }
 ],
 "metadata": {
  "orig_nbformat": 4,
  "language_info": {
   "name": "python",
   "version": "3.8.5",
   "mimetype": "text/x-python",
   "codemirror_mode": {
    "name": "ipython",
    "version": 3
   },
   "pygments_lexer": "ipython3",
   "nbconvert_exporter": "python",
   "file_extension": ".py"
  },
  "kernelspec": {
   "name": "python3",
   "display_name": "Python 3.8.5 64-bit ('base': conda)"
  },
  "interpreter": {
   "hash": "b3ba2566441a7c06988d0923437866b63cedc61552a5af99d1f4fb67d367b25f"
  }
 },
 "nbformat": 4,
 "nbformat_minor": 2
}