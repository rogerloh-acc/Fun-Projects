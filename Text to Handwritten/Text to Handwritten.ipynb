{
    "cells": [
        {
            "cell_type": "code",
            "execution_count": 8,
            "source": [
                "pip install pywhatkit"
            ],
            "outputs": [
                {
                    "output_type": "stream",
                    "name": "stdout",
                    "text": [
                        "Requirement already satisfied: pywhatkit in c:\\programdata\\anaconda3\\lib\\site-packages (5.1)\n",
                        "Requirement already satisfied: requests in c:\\programdata\\anaconda3\\lib\\site-packages (from pywhatkit) (2.24.0)\n",
                        "Requirement already satisfied: pyautogui in c:\\programdata\\anaconda3\\lib\\site-packages (from pywhatkit) (0.9.53)\n",
                        "Requirement already satisfied: Pillow in c:\\programdata\\anaconda3\\lib\\site-packages (from pywhatkit) (8.0.1)\n",
                        "Requirement already satisfied: wikipedia in c:\\programdata\\anaconda3\\lib\\site-packages (from pywhatkit) (1.4.0)\n",
                        "Requirement already satisfied: idna<3,>=2.5 in c:\\programdata\\anaconda3\\lib\\site-packages (from requests->pywhatkit) (2.10)\n",
                        "Requirement already satisfied: certifi>=2017.4.17 in c:\\programdata\\anaconda3\\lib\\site-packages (from requests->pywhatkit) (2020.6.20)\n",
                        "Requirement already satisfied: urllib3!=1.25.0,!=1.25.1,<1.26,>=1.21.1 in c:\\programdata\\anaconda3\\lib\\site-packages (from requests->pywhatkit) (1.25.11)\n",
                        "Requirement already satisfied: chardet<4,>=3.0.2 in c:\\programdata\\anaconda3\\lib\\site-packages (from requests->pywhatkit) (3.0.4)\n",
                        "Requirement already satisfied: pygetwindow>=0.0.5 in c:\\programdata\\anaconda3\\lib\\site-packages (from pyautogui->pywhatkit) (0.0.9)\n",
                        "Requirement already satisfied: pymsgbox in c:\\programdata\\anaconda3\\lib\\site-packages (from pyautogui->pywhatkit) (1.0.9)\n",
                        "Requirement already satisfied: PyTweening>=1.0.1 in c:\\programdata\\anaconda3\\lib\\site-packages (from pyautogui->pywhatkit) (1.0.3)\n",
                        "Requirement already satisfied: pyscreeze>=0.1.21 in c:\\programdata\\anaconda3\\lib\\site-packages (from pyautogui->pywhatkit) (0.1.27)\n",
                        "Requirement already satisfied: mouseinfo in c:\\programdata\\anaconda3\\lib\\site-packages (from pyautogui->pywhatkit) (0.1.3)\n",
                        "Requirement already satisfied: beautifulsoup4 in c:\\programdata\\anaconda3\\lib\\site-packages (from wikipedia->pywhatkit) (4.9.3)\n",
                        "Requirement already satisfied: pyrect in c:\\programdata\\anaconda3\\lib\\site-packages (from pygetwindow>=0.0.5->pyautogui->pywhatkit) (0.1.4)\n",
                        "Requirement already satisfied: pyperclip in c:\\programdata\\anaconda3\\lib\\site-packages (from mouseinfo->pyautogui->pywhatkit) (1.8.2)\n",
                        "Requirement already satisfied: soupsieve>1.2; python_version >= \"3.0\" in c:\\programdata\\anaconda3\\lib\\site-packages (from beautifulsoup4->wikipedia->pywhatkit) (2.0.1)\n",
                        "Note: you may need to restart the kernel to use updated packages.\n"
                    ]
                }
            ],
            "metadata": {}
        },
        {
            "cell_type": "code",
            "execution_count": 9,
            "source": [
                "pip install opencv-python "
            ],
            "outputs": [
                {
                    "output_type": "stream",
                    "name": "stdout",
                    "text": [
                        "Requirement already satisfied: opencv-python in c:\\programdata\\anaconda3\\lib\\site-packages (4.5.3.56)\n",
                        "Requirement already satisfied: numpy>=1.17.3 in c:\\programdata\\anaconda3\\lib\\site-packages (from opencv-python) (1.19.2)\n",
                        "Note: you may need to restart the kernel to use updated packages.\n"
                    ]
                }
            ],
            "metadata": {}
        },
        {
            "cell_type": "code",
            "execution_count": 10,
            "source": [
                "# Import library\r\n",
                "import pywhatkit as pwk\r\n",
                "import cv2"
            ],
            "outputs": [],
            "metadata": {}
        },
        {
            "cell_type": "code",
            "execution_count": 11,
            "source": [
                "text = input()"
            ],
            "outputs": [],
            "metadata": {}
        },
        {
            "cell_type": "code",
            "execution_count": 12,
            "source": [
                "pwk.text_to_handwriting(text, save_to=\"handwriting.png\")\r\n",
                "img = cv2.imread(\"handwriting.png\")\r\n",
                "cv2.imshow(\"Text to Handwriting\", img)\r\n",
                "cv2.waitKey(0)\r\n",
                "cv2.destroyAllWindows()"
            ],
            "outputs": [],
            "metadata": {}
        }
    ],
    "metadata": {
        "orig_nbformat": 4,
        "language_info": {
            "name": "python",
            "version": "3.8.5",
            "mimetype": "text/x-python",
            "codemirror_mode": {
                "name": "ipython",
                "version": 3
            },
            "pygments_lexer": "ipython3",
            "nbconvert_exporter": "python",
            "file_extension": ".py"
        },
        "kernelspec": {
            "name": "python3",
            "display_name": "Python 3.8.5 64-bit ('base': conda)"
        },
        "interpreter": {
            "hash": "b3ba2566441a7c06988d0923437866b63cedc61552a5af99d1f4fb67d367b25f"
        }
    },
    "nbformat": 4,
    "nbformat_minor": 2
}