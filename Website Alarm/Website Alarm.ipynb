{
 "cells": [
  {
   "cell_type": "code",
   "execution_count": 1,
   "source": [
    "# Import library \r\n",
    "import time\r\n",
    "import webbrowser"
   ],
   "outputs": [],
   "metadata": {}
  },
  {
   "cell_type": "code",
   "execution_count": 2,
   "source": [
    "# Input target time \r\n",
    "set_alarm = input(\"Set the website alarm as H:M: \\n\") \r\n",
    "print (set_alarm)"
   ],
   "outputs": [
    {
     "output_type": "stream",
     "name": "stdout",
     "text": [
      "04: 43\n"
     ]
    }
   ],
   "metadata": {}
  },
  {
   "cell_type": "code",
   "execution_count": 3,
   "source": [
    "# Input website link\r\n",
    "url = input (\"Enter the website link you want to open: \")"
   ],
   "outputs": [],
   "metadata": {}
  },
  {
   "cell_type": "code",
   "execution_count": 4,
   "source": [
    "# This is the actual time that we will use to print. \r\n",
    "actual_time = time.strftime (\"%I: %M\")"
   ],
   "outputs": [],
   "metadata": {}
  },
  {
   "cell_type": "code",
   "execution_count": 5,
   "source": [
    "# This is loop until the value is equal to the alarm time\r\n",
    "while (actual_time != set_alarm):\r\n",
    "    print (\"The time is \" + actual_time)\r\n",
    "    actual_time = time.strftime (\"%I: %M\")\r\n",
    "    time.sleep(1)"
   ],
   "outputs": [
    {
     "output_type": "stream",
     "name": "stdout",
     "text": [
      "The time is 04: 42\n",
      "The time is 04: 42\n",
      "The time is 04: 42\n",
      "The time is 04: 42\n",
      "The time is 04: 42\n",
      "The time is 04: 42\n",
      "The time is 04: 42\n",
      "The time is 04: 42\n",
      "The time is 04: 42\n",
      "The time is 04: 42\n",
      "The time is 04: 42\n",
      "The time is 04: 42\n",
      "The time is 04: 42\n",
      "The time is 04: 42\n",
      "The time is 04: 42\n",
      "The time is 04: 42\n",
      "The time is 04: 42\n",
      "The time is 04: 42\n",
      "The time is 04: 42\n",
      "The time is 04: 42\n",
      "The time is 04: 42\n",
      "The time is 04: 42\n",
      "The time is 04: 42\n",
      "The time is 04: 42\n",
      "The time is 04: 42\n",
      "The time is 04: 42\n",
      "The time is 04: 42\n",
      "The time is 04: 42\n"
     ]
    }
   ],
   "metadata": {}
  },
  {
   "cell_type": "code",
   "execution_count": 6,
   "source": [
    "# This if statement plays the role when reach the time and execute the code\r\n",
    "if (actual_time == set_alarm):\r\n",
    "    print (\"You should see your webpage now.\")\r\n",
    "    \r\n",
    "    # Open the website link\r\n",
    "    webbrowser.open(url)"
   ],
   "outputs": [
    {
     "output_type": "stream",
     "name": "stdout",
     "text": [
      "You should see your webpage now.\n"
     ]
    }
   ],
   "metadata": {}
  }
 ],
 "metadata": {
  "orig_nbformat": 4,
  "language_info": {
   "name": "python",
   "version": "3.8.5",
   "mimetype": "text/x-python",
   "codemirror_mode": {
    "name": "ipython",
    "version": 3
   },
   "pygments_lexer": "ipython3",
   "nbconvert_exporter": "python",
   "file_extension": ".py"
  },
  "kernelspec": {
   "name": "python3",
   "display_name": "Python 3.8.5 64-bit ('base': conda)"
  },
  "interpreter": {
   "hash": "b3ba2566441a7c06988d0923437866b63cedc61552a5af99d1f4fb67d367b25f"
  }
 },
 "nbformat": 4,
 "nbformat_minor": 2
}