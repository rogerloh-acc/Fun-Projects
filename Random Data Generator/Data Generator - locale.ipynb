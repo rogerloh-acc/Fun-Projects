{
 "cells": [
  {
   "cell_type": "code",
   "execution_count": 1,
   "metadata": {},
   "outputs": [],
   "source": [
    "from faker import Faker"
   ]
  },
  {
   "cell_type": "code",
   "execution_count": 2,
   "metadata": {},
   "outputs": [],
   "source": [
    "# Faker instance in English-United Kingdom locale \n",
    "fake = Faker (\"en_GB\")"
   ]
  },
  {
   "cell_type": "code",
   "execution_count": 3,
   "metadata": {},
   "outputs": [
    {
     "name": "stdout",
     "output_type": "stream",
     "text": [
      "First Name: Deborah\n",
      "Last Name: Hughes\n",
      "Address: 37 Jason green\n",
      "East Donald\n",
      "B7C 1LA\n",
      "Company: Stevenson, Davison and Sharp\n"
     ]
    }
   ],
   "source": [
    "print (\"First Name:\", fake.first_name())\n",
    "print (\"Last Name:\", fake.last_name())\n",
    "print (\"Address:\", fake.address())\n",
    "print (\"Company:\", fake.company())"
   ]
  },
  {
   "cell_type": "code",
   "execution_count": 4,
   "metadata": {},
   "outputs": [],
   "source": [
    "# Faker instance in Chinese locale \n",
    "fake_CN = Faker (\"zh_CN\")"
   ]
  },
  {
   "cell_type": "code",
   "execution_count": 5,
   "metadata": {},
   "outputs": [
    {
     "name": "stdout",
     "output_type": "stream",
     "text": [
      "First Name: 婷\n",
      "Last Name: 赵\n",
      "Address: 澳门特别行政区雪梅市东丽太原街k座 420844\n",
      "Company: 同兴万点信息有限公司\n"
     ]
    }
   ],
   "source": [
    "print (\"First Name:\", fake_CN.first_name())\n",
    "print (\"Last Name:\", fake_CN.last_name())\n",
    "print (\"Address:\", fake_CN.address())\n",
    "print (\"Company:\", fake_CN.company())"
   ]
  },
  {
   "cell_type": "code",
   "execution_count": 6,
   "metadata": {},
   "outputs": [
    {
     "name": "stdout",
     "output_type": "stream",
     "text": [
      "['ar_AA', 'ar_AE', 'ar_EG', 'ar_JO', 'ar_PS', 'ar_SA', 'az_AZ', 'bg_BG', 'bn_BD', 'bs_BA', 'cs_CZ', 'da_DK', 'de', 'de_AT', 'de_CH', 'de_DE', 'dk_DK', 'el_CY', 'el_GR', 'en', 'en_AU', 'en_CA', 'en_GB', 'en_IE', 'en_IN', 'en_NZ', 'en_PH', 'en_TH', 'en_US', 'es', 'es_CA', 'es_CO', 'es_ES', 'es_MX', 'et_EE', 'fa_IR', 'fi_FI', 'fil_PH', 'fr_CA', 'fr_CH', 'fr_FR', 'fr_QC', 'ga_IE', 'he_IL', 'hi_IN', 'hr_HR', 'hu_HU', 'hy_AM', 'id_ID', 'it_CH', 'it_IT', 'ja_JP', 'ka_GE', 'ko_KR', 'la', 'lb_LU', 'lt_LT', 'lv_LV', 'mt_MT', 'ne_NP', 'nl_BE', 'nl_NL', 'no_NO', 'or_IN', 'pl_PL', 'pt_BR', 'pt_PT', 'ro_RO', 'ru_RU', 'sk_SK', 'sl_SI', 'sv_SE', 'ta_IN', 'th', 'th_TH', 'tl_PH', 'tr_TR', 'tw_GH', 'uk_UA', 'zh_CN', 'zh_TW']\n"
     ]
    }
   ],
   "source": [
    "# All available locale\n",
    "from faker.config import AVAILABLE_LOCALES\n",
    "\n",
    "list = [local for local in AVAILABLE_LOCALES] \n",
    "print (list)"
   ]
  }
 ],
 "metadata": {
  "interpreter": {
   "hash": "26fd1259fd489d5a6421297310a87215120db0e832edde80825b8ced8638d752"
  },
  "kernelspec": {
   "display_name": "Python 3.8.11 64-bit ('base': conda)",
   "language": "python",
   "name": "python3"
  },
  "language_info": {
   "codemirror_mode": {
    "name": "ipython",
    "version": 3
   },
   "file_extension": ".py",
   "mimetype": "text/x-python",
   "name": "python",
   "nbconvert_exporter": "python",
   "pygments_lexer": "ipython3",
   "version": "3.8.11"
  },
  "orig_nbformat": 4
 },
 "nbformat": 4,
 "nbformat_minor": 2
}
