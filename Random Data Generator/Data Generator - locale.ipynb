{
 "cells": [
  {
   "cell_type": "code",
   "execution_count": 1,
   "metadata": {},
   "outputs": [],
   "source": [
    "from faker import Faker"
   ]
  },
  {
   "cell_type": "code",
   "execution_count": 2,
   "metadata": {},
   "outputs": [],
   "source": [
    "# Faker instance in English-United Kingdom locale \n",
    "fake = Faker (\"en_GB\")"
   ]
  },
  {
   "cell_type": "code",
   "execution_count": 3,
   "metadata": {},
   "outputs": [
    {
     "name": "stdout",
     "output_type": "stream",
     "text": [
      "First Name: Jane\n",
      "Last Name: Harris\n",
      "Address: 407 Howells hills\n",
      "Lake Paige\n",
      "JE1 3EF\n",
      "Company: Taylor and Sons\n"
     ]
    }
   ],
   "source": [
    "print (\"First Name:\", fake.first_name())\n",
    "print (\"Last Name:\", fake.last_name())\n",
    "print (\"Address:\", fake.address())\n",
    "print (\"Company:\", fake.company())"
   ]
  },
  {
   "cell_type": "code",
   "execution_count": 4,
   "metadata": {},
   "outputs": [],
   "source": [
    "# Faker instance in Chinese locale \n",
    "fake_CN = Faker (\"zh_CN\")"
   ]
  },
  {
   "cell_type": "code",
   "execution_count": 5,
   "metadata": {},
   "outputs": [
    {
     "name": "stdout",
     "output_type": "stream",
     "text": [
      "First Name: 欢\n",
      "Last Name: 余\n",
      "Address: 黑龙江省明市丰都赵路m座 877270\n",
      "Company: 图龙信息科技有限公司\n"
     ]
    }
   ],
   "source": [
    "print (\"First Name:\", fake_CN.first_name())\n",
    "print (\"Last Name:\", fake_CN.last_name())\n",
    "print (\"Address:\", fake_CN.address())\n",
    "print (\"Company:\", fake_CN.company())"
   ]
  }
 ],
 "metadata": {
  "interpreter": {
   "hash": "26fd1259fd489d5a6421297310a87215120db0e832edde80825b8ced8638d752"
  },
  "kernelspec": {
   "display_name": "Python 3.8.11 64-bit ('base': conda)",
   "language": "python",
   "name": "python3"
  },
  "language_info": {
   "codemirror_mode": {
    "name": "ipython",
    "version": 3
   },
   "file_extension": ".py",
   "mimetype": "text/x-python",
   "name": "python",
   "nbconvert_exporter": "python",
   "pygments_lexer": "ipython3",
   "version": "3.8.11"
  },
  "orig_nbformat": 4
 },
 "nbformat": 4,
 "nbformat_minor": 2
}
