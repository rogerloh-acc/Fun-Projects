{
 "cells": [
  {
   "cell_type": "code",
   "execution_count": 1,
   "metadata": {},
   "outputs": [],
   "source": [
    "from faker import Faker"
   ]
  },
  {
   "cell_type": "code",
   "execution_count": 2,
   "metadata": {},
   "outputs": [],
   "source": [
    "# Faker instance \n",
    "fake = Faker ()"
   ]
  },
  {
   "cell_type": "code",
   "execution_count": 3,
   "metadata": {},
   "outputs": [
    {
     "name": "stdout",
     "output_type": "stream",
     "text": [
      "Name: Rachel Wilson\n",
      "Date of Birth: 1915-10-25\n",
      "Address: 658 Lynch Union\n",
      "South Christopher, NY 05910\n",
      "Country: British Indian Ocean Territory (Chagos Archipelago)\n",
      "Email: dawndiaz@example.org\n"
     ]
    }
   ],
   "source": [
    "# Faker generates data by default in English US locale \n",
    "print (\"Name:\", fake.name())\n",
    "print (\"Date of Birth:\", fake.date_of_birth())\n",
    "print (\"Address:\", fake.address())\n",
    "print (\"Country:\", fake.country())\n",
    "print (\"Email:\", fake.email())"
   ]
  }
 ],
 "metadata": {
  "interpreter": {
   "hash": "26fd1259fd489d5a6421297310a87215120db0e832edde80825b8ced8638d752"
  },
  "kernelspec": {
   "display_name": "Python 3.8.11 64-bit ('base': conda)",
   "language": "python",
   "name": "python3"
  },
  "language_info": {
   "codemirror_mode": {
    "name": "ipython",
    "version": 3
   },
   "file_extension": ".py",
   "mimetype": "text/x-python",
   "name": "python",
   "nbconvert_exporter": "python",
   "pygments_lexer": "ipython3",
   "version": "3.8.11"
  },
  "orig_nbformat": 4
 },
 "nbformat": 4,
 "nbformat_minor": 2
}
