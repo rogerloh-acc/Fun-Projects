{
 "cells": [
  {
   "cell_type": "code",
   "execution_count": 1,
   "metadata": {},
   "outputs": [],
   "source": [
    "# Import libraries\n",
    "from prettytable import PrettyTable"
   ]
  },
  {
   "cell_type": "code",
   "execution_count": 2,
   "metadata": {},
   "outputs": [],
   "source": [
    "# Specify the column names while initialise the table \n",
    "myTable = PrettyTable ( [ \"Student Name\", \"Class\", \"Section\", \"Percentage\"])"
   ]
  },
  {
   "cell_type": "code",
   "execution_count": 3,
   "metadata": {},
   "outputs": [],
   "source": [
    "# Add rows\n",
    "myTable.add_row ( [ \"Leonard\", \"X\", \"B\", \"91.2%\"])\n",
    "myTable.add_row ( [ \"Penny\", \"X\", \"C\", \"63.5%\"])\n",
    "myTable.add_row ( [ \"Howard\", \"X\", \"A\", \"90.2%\"])\n",
    "myTable.add_row ( [ \"Benny\", \"X\", \"D\", \"92.7%\"])\n",
    "myTable.add_row ( [ \"Sheldon\", \"X\", \"A\", \"98.2%\"])\n",
    "myTable.add_row ( [ \"Raj\", \"X\", \"C\", \"88.1%\"])\n",
    "myTable.add_row ( [ \"Amy\", \"X\", \"C\", \"95.0%\"])"
   ]
  },
  {
   "cell_type": "code",
   "execution_count": 4,
   "metadata": {},
   "outputs": [
    {
     "name": "stdout",
     "output_type": "stream",
     "text": [
      "+--------------+-------+---------+------------+\n",
      "| Student Name | Class | Section | Percentage |\n",
      "+--------------+-------+---------+------------+\n",
      "|   Leonard    |   X   |    B    |   91.2%    |\n",
      "|    Penny     |   X   |    C    |   63.5%    |\n",
      "|    Howard    |   X   |    A    |   90.2%    |\n",
      "|    Benny     |   X   |    D    |   92.7%    |\n",
      "|   Sheldon    |   X   |    A    |   98.2%    |\n",
      "|     Raj      |   X   |    C    |   88.1%    |\n",
      "|     Amy      |   X   |    C    |   95.0%    |\n",
      "+--------------+-------+---------+------------+\n"
     ]
    }
   ],
   "source": [
    "print(myTable)"
   ]
  }
 ],
 "metadata": {
  "interpreter": {
   "hash": "26fd1259fd489d5a6421297310a87215120db0e832edde80825b8ced8638d752"
  },
  "kernelspec": {
   "display_name": "Python 3.8.11 64-bit ('base': conda)",
   "name": "python3"
  },
  "language_info": {
   "codemirror_mode": {
    "name": "ipython",
    "version": 3
   },
   "file_extension": ".py",
   "mimetype": "text/x-python",
   "name": "python",
   "nbconvert_exporter": "python",
   "pygments_lexer": "ipython3",
   "version": "3.8.11"
  },
  "orig_nbformat": 4
 },
 "nbformat": 4,
 "nbformat_minor": 2
}
