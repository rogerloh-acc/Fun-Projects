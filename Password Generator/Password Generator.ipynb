{
 "cells": [
  {
   "cell_type": "code",
   "execution_count": 1,
   "source": [
    "# Import liabaries\r\n",
    "\r\n",
    "import random2\r\n",
    "import array"
   ],
   "outputs": [],
   "metadata": {}
  },
  {
   "cell_type": "code",
   "execution_count": 2,
   "source": [
    "# Max length of the password needed \r\n",
    "max_length = 16"
   ],
   "outputs": [],
   "metadata": {}
  },
  {
   "cell_type": "code",
   "execution_count": 3,
   "source": [
    "# Declare array of characters in the password \r\n",
    "digit = [\"0\", \"1\", \"2\", \"3\", \"4\", \"5\", \"6\", \"7\", \"8\", \"9\"]\r\n",
    "\r\n",
    "lower_char = [\"q\", \"w\", \"e\", \"r\", \"t\", \"y\", \"u\", \"i\", \"o\", \"p\",\r\n",
    "              \"a\", \"s\", \"d\", \"f\", \"g\", \"h\", \"j\", \"k\", \"l\",\r\n",
    "              \"z\", \"x\", \"c\", \"v\", \"b\", \"n\", \"m\"]\r\n",
    "\r\n",
    "upper_char = [\"Q\", \"W\", \"E\", \"R\", \"T\", \"Y\", \"U\", \"I\", \"O\", \"P\",\r\n",
    "              \"A\", \"S\", \"D\", \"F\", \"G\", \"H\", \"J\", \"K\", \"L\",\r\n",
    "              \"Z\", \"X\", \"C\", \"V\", \"B\", \"N\", \"M\"]\r\n",
    "\r\n",
    "symbol = [\"~\", \"!\", \"@\", \"#\", \"$\", \"%\", \"^\", \"&\", \"*\", \"(\", \")\", \"|\", \":\", \"<\", \">\", \"/\"] "
   ],
   "outputs": [],
   "metadata": {}
  },
  {
   "cell_type": "code",
   "execution_count": 4,
   "source": [
    "# Combine the character arrays to form one array \r\n",
    "com_list = digit + lower_char + upper_char + symbol"
   ],
   "outputs": [],
   "metadata": {}
  },
  {
   "cell_type": "code",
   "execution_count": 5,
   "source": [
    "# Ramdomly select at least one character from each character set above \r\n",
    "rand_digit = random2.choice (digit)\r\n",
    "rand_lower = random2.choice (lower_char)\r\n",
    "rand_upper = random2.choice (upper_char)\r\n",
    "rand_symbol = random2.choice (symbol)"
   ],
   "outputs": [],
   "metadata": {}
  },
  {
   "cell_type": "code",
   "execution_count": 6,
   "source": [
    "# Combine the character randomly selected above to form 4 characters from each character set \r\n",
    "temp_pass = rand_digit + rand_lower + rand_upper + rand_symbol"
   ],
   "outputs": [],
   "metadata": {}
  },
  {
   "cell_type": "code",
   "execution_count": 7,
   "source": [
    "# Fill the remaining password based on the desired length \r\n",
    "for x in range (max_length - 4):\r\n",
    "    temp_pass = temp_pass + random2.choice (com_list)\r\n",
    "    \r\n",
    "    '''\r\n",
    "    convert temporary password into array and resuffle the patterns  \r\n",
    "    '''\r\n",
    "    temp_pass_list = array.array (\"u\", temp_pass)\r\n",
    "    random2.shuffle (temp_pass_list)"
   ],
   "outputs": [],
   "metadata": {}
  },
  {
   "cell_type": "code",
   "execution_count": 8,
   "source": [
    "# Append the character to form the password \r\n",
    "password = \"\"\r\n",
    "for x in temp_pass_list:\r\n",
    "    password = password + x\r\n",
    "\r\n",
    "print (password)"
   ],
   "outputs": [
    {
     "output_type": "stream",
     "name": "stdout",
     "text": [
      "1@h&dUnfO$3rhGg$\n"
     ]
    }
   ],
   "metadata": {}
  }
 ],
 "metadata": {
  "orig_nbformat": 4,
  "language_info": {
   "name": "python",
   "version": "3.8.11",
   "mimetype": "text/x-python",
   "codemirror_mode": {
    "name": "ipython",
    "version": 3
   },
   "pygments_lexer": "ipython3",
   "nbconvert_exporter": "python",
   "file_extension": ".py"
  },
  "kernelspec": {
   "name": "python3",
   "display_name": "Python 3.8.11 64-bit ('base': conda)"
  },
  "interpreter": {
   "hash": "26fd1259fd489d5a6421297310a87215120db0e832edde80825b8ced8638d752"
  }
 },
 "nbformat": 4,
 "nbformat_minor": 2
}