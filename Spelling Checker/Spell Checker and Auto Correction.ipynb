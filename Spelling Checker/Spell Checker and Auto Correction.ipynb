{
 "cells": [
  {
   "attachments": {},
   "cell_type": "markdown",
   "metadata": {},
   "source": [
    "## Spellchecker"
   ]
  },
  {
   "cell_type": "code",
   "execution_count": 1,
   "metadata": {},
   "outputs": [],
   "source": [
    "# Import library\n",
    "from spellchecker import SpellChecker\n",
    "import urllib.request"
   ]
  },
  {
   "cell_type": "code",
   "execution_count": 2,
   "metadata": {},
   "outputs": [
    {
     "data": {
      "text/plain": [
       "['_SpellChecker__edit_distance_alt',\n",
       " '__class__',\n",
       " '__contains__',\n",
       " '__delattr__',\n",
       " '__dir__',\n",
       " '__doc__',\n",
       " '__eq__',\n",
       " '__format__',\n",
       " '__ge__',\n",
       " '__getattribute__',\n",
       " '__getitem__',\n",
       " '__gt__',\n",
       " '__hash__',\n",
       " '__init__',\n",
       " '__init_subclass__',\n",
       " '__iter__',\n",
       " '__le__',\n",
       " '__lt__',\n",
       " '__module__',\n",
       " '__ne__',\n",
       " '__new__',\n",
       " '__reduce__',\n",
       " '__reduce_ex__',\n",
       " '__repr__',\n",
       " '__setattr__',\n",
       " '__sizeof__',\n",
       " '__slots__',\n",
       " '__str__',\n",
       " '__subclasshook__',\n",
       " '_case_sensitive',\n",
       " '_check_if_should_check',\n",
       " '_distance',\n",
       " '_tokenizer',\n",
       " '_word_frequency',\n",
       " 'candidates',\n",
       " 'correction',\n",
       " 'distance',\n",
       " 'edit_distance_1',\n",
       " 'edit_distance_2',\n",
       " 'export',\n",
       " 'known',\n",
       " 'languages',\n",
       " 'split_words',\n",
       " 'unknown',\n",
       " 'word_frequency',\n",
       " 'word_usage_frequency']"
      ]
     },
     "execution_count": 2,
     "metadata": {},
     "output_type": "execute_result"
    }
   ],
   "source": [
    "# features\n",
    "dir(SpellChecker)"
   ]
  },
  {
   "cell_type": "code",
   "execution_count": 3,
   "metadata": {},
   "outputs": [],
   "source": [
    "# Load default word frequency list\n",
    "\n",
    "spell = SpellChecker()\n",
    "docx = [\"calandar\", \"lightenning\", \"misspel\", \"neccessary\", \"busines\", \"recieve\", \"addres\"]"
   ]
  },
  {
   "attachments": {},
   "cell_type": "markdown",
   "metadata": {},
   "source": [
    "Spelling Correction"
   ]
  },
  {
   "cell_type": "code",
   "execution_count": 4,
   "metadata": {},
   "outputs": [
    {
     "name": "stdout",
     "output_type": "stream",
     "text": [
      "calandar:calendar\n",
      "lightenning:lightening\n",
      "misspel:misspell\n",
      "neccessary:necessary\n",
      "busines:business\n",
      "recieve:receive\n",
      "addres:address\n"
     ]
    }
   ],
   "source": [
    "for word in docx:\n",
    "    print(f'{word}:{spell.correction(word)}')"
   ]
  },
  {
   "attachments": {},
   "cell_type": "markdown",
   "metadata": {},
   "source": [
    "Suggested Candidates"
   ]
  },
  {
   "cell_type": "code",
   "execution_count": 5,
   "metadata": {},
   "outputs": [
    {
     "name": "stdout",
     "output_type": "stream",
     "text": [
      "calandar:{'calendar'}\n",
      "lightenning:{'lightening'}\n",
      "misspel:{'misspell'}\n",
      "neccessary:{'necessary'}\n",
      "busines:{'bussines', 'business'}\n",
      "recieve:{'receive', 'relieve'}\n",
      "addres:{'andres', 'adders', 'adores', 'address'}\n"
     ]
    }
   ],
   "source": [
    "for word in docx:\n",
    "    print(f'{word}:{spell.candidates(word)}')"
   ]
  },
  {
   "attachments": {},
   "cell_type": "markdown",
   "metadata": {},
   "source": [
    "Probability"
   ]
  },
  {
   "cell_type": "code",
   "execution_count": 6,
   "metadata": {},
   "outputs": [
    {
     "name": "stdout",
     "output_type": "stream",
     "text": [
      "calandar: calendar: probability0.0\n",
      "lightenning: lightening: probability0.0\n",
      "misspel: misspell: probability0.0\n",
      "neccessary: necessary: probability0.0\n",
      "busines: business: probability0.0\n",
      "recieve: receive: probability0.0\n",
      "addres: address: probability0.0\n"
     ]
    }
   ],
   "source": [
    "# The frequency of the given word out of all words in the frequency list\n",
    "for word in docx:\n",
    "    print(f'{word}: {spell.correction(word)}: probability{spell.word_usage_frequency(word)}')"
   ]
  },
  {
   "attachments": {},
   "cell_type": "markdown",
   "metadata": {},
   "source": [
    "Add or Update Your Word Frequency"
   ]
  },
  {
   "cell_type": "code",
   "execution_count": 7,
   "metadata": {},
   "outputs": [],
   "source": [
    "myname = \"RogerL\""
   ]
  },
  {
   "cell_type": "code",
   "execution_count": 8,
   "metadata": {},
   "outputs": [
    {
     "data": {
      "text/plain": [
       "'roger'"
      ]
     },
     "execution_count": 8,
     "metadata": {},
     "output_type": "execute_result"
    }
   ],
   "source": [
    "spell.correction(myname)"
   ]
  },
  {
   "cell_type": "code",
   "execution_count": 9,
   "metadata": {},
   "outputs": [
    {
     "data": {
      "text/plain": [
       "{'roger', 'rogers'}"
      ]
     },
     "execution_count": 9,
     "metadata": {},
     "output_type": "execute_result"
    }
   ],
   "source": [
    "spell.candidates(myname)"
   ]
  },
  {
   "cell_type": "code",
   "execution_count": 10,
   "metadata": {},
   "outputs": [],
   "source": [
    "# Load default word frequency list and add new txt word list\n",
    "new_spell= SpellChecker()"
   ]
  },
  {
   "cell_type": "code",
   "execution_count": 11,
   "metadata": {},
   "outputs": [],
   "source": [
    "new_spell.word_frequency.load_words(['RogerL', 'RogerLoh'])"
   ]
  },
  {
   "cell_type": "code",
   "execution_count": 12,
   "metadata": {},
   "outputs": [
    {
     "data": {
      "text/plain": [
       "'RogerL'"
      ]
     },
     "execution_count": 12,
     "metadata": {},
     "output_type": "execute_result"
    }
   ],
   "source": [
    "new_spell.correction(myname)"
   ]
  },
  {
   "cell_type": "code",
   "execution_count": 13,
   "metadata": {},
   "outputs": [
    {
     "data": {
      "text/plain": [
       "{'RogerL'}"
      ]
     },
     "execution_count": 13,
     "metadata": {},
     "output_type": "execute_result"
    }
   ],
   "source": [
    "new_spell.candidates(myname)"
   ]
  },
  {
   "attachments": {},
   "cell_type": "markdown",
   "metadata": {},
   "source": [
    "## Autocorrect"
   ]
  },
  {
   "cell_type": "code",
   "execution_count": 14,
   "metadata": {},
   "outputs": [],
   "source": [
    "# Import library\n",
    "from autocorrect import Speller"
   ]
  },
  {
   "cell_type": "code",
   "execution_count": 15,
   "metadata": {},
   "outputs": [
    {
     "data": {
      "text/plain": [
       "['calandar',\n",
       " 'lightenning',\n",
       " 'misspel',\n",
       " 'neccessary',\n",
       " 'busines',\n",
       " 'recieve',\n",
       " 'addres']"
      ]
     },
     "execution_count": 15,
     "metadata": {},
     "output_type": "execute_result"
    }
   ],
   "source": [
    "docx "
   ]
  },
  {
   "cell_type": "code",
   "execution_count": 16,
   "metadata": {},
   "outputs": [
    {
     "name": "stdout",
     "output_type": "stream",
     "text": [
      "calendar\n",
      "lightning\n",
      "missed\n",
      "necessary\n",
      "business\n",
      "receive\n",
      "address\n"
     ]
    }
   ],
   "source": [
    "spell = Speller()\n",
    "\n",
    "for word in docx:\n",
    "    print(spell(word))"
   ]
  },
  {
   "attachments": {},
   "cell_type": "markdown",
   "metadata": {},
   "source": [
    "## Textblob"
   ]
  },
  {
   "cell_type": "code",
   "execution_count": 17,
   "metadata": {},
   "outputs": [],
   "source": [
    "# Import library\n",
    "from textblob import TextBlob, Word"
   ]
  },
  {
   "cell_type": "code",
   "execution_count": 18,
   "metadata": {},
   "outputs": [],
   "source": [
    "ex = TextBlob(\"He wos very accomodotion in teh new locotion\")"
   ]
  },
  {
   "cell_type": "code",
   "execution_count": 19,
   "metadata": {},
   "outputs": [
    {
     "name": "stdout",
     "output_type": "stream",
     "text": [
      "He : He\n",
      "wos : was\n",
      "very : very\n",
      "accomodotion : accommodation\n",
      "in : in\n",
      "teh : the\n",
      "new : new\n",
      "locotion : location\n"
     ]
    }
   ],
   "source": [
    "for word in ex.words:\n",
    "    print(word, \":\", word.correct())"
   ]
  },
  {
   "cell_type": "code",
   "execution_count": 20,
   "metadata": {},
   "outputs": [
    {
     "data": {
      "text/plain": [
       "[('absence', 1.0)]"
      ]
     },
     "execution_count": 20,
     "metadata": {},
     "output_type": "execute_result"
    }
   ],
   "source": [
    "# Spell checking using word \n",
    "w = Word(\"abscence\")\n",
    "w.spellcheck()"
   ]
  },
  {
   "attachments": {},
   "cell_type": "markdown",
   "metadata": {},
   "source": [
    "## Pattern"
   ]
  },
  {
   "cell_type": "code",
   "execution_count": 21,
   "metadata": {},
   "outputs": [],
   "source": [
    "# Import library\n",
    "from pattern.en import suggest"
   ]
  },
  {
   "cell_type": "code",
   "execution_count": 23,
   "metadata": {},
   "outputs": [
    {
     "name": "stdout",
     "output_type": "stream",
     "text": [
      "[('absence', 1.0)]\n"
     ]
    }
   ],
   "source": [
    "print (suggest(\"abscence\"))"
   ]
  }
 ],
 "metadata": {
  "kernelspec": {
   "display_name": "Python 3",
   "language": "python",
   "name": "python3"
  },
  "language_info": {
   "codemirror_mode": {
    "name": "ipython",
    "version": 3
   },
   "file_extension": ".py",
   "mimetype": "text/x-python",
   "name": "python",
   "nbconvert_exporter": "python",
   "pygments_lexer": "ipython3",
   "version": "3.10.10"
  },
  "orig_nbformat": 4,
  "vscode": {
   "interpreter": {
    "hash": "be8f78547676d52443a4621dd37537938f0ad272a6eaa40873f216838f0989ae"
   }
  }
 },
 "nbformat": 4,
 "nbformat_minor": 2
}
